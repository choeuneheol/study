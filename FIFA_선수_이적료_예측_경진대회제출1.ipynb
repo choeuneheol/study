{
  "cells": [
    {
      "cell_type": "markdown",
      "metadata": {
        "id": "view-in-github",
        "colab_type": "text"
      },
      "source": [
        "<a href=\"https://colab.research.google.com/github/choeuneheol/study/blob/main/FIFA_%EC%84%A0%EC%88%98_%EC%9D%B4%EC%A0%81%EB%A3%8C_%EC%98%88%EC%B8%A1_%EA%B2%BD%EC%A7%84%EB%8C%80%ED%9A%8C%EC%A0%9C%EC%B6%9C1.ipynb\" target=\"_parent\"><img src=\"https://colab.research.google.com/assets/colab-badge.svg\" alt=\"Open In Colab\"/></a>"
      ]
    },
    {
      "cell_type": "markdown",
      "id": "8d5ecf62",
      "metadata": {
        "id": "8d5ecf62"
      },
      "source": [
        "# 데이터 둘러보기(구조 탐색)"
      ]
    },
    {
      "cell_type": "markdown",
      "id": "b8ef51b5",
      "metadata": {
        "id": "b8ef51b5"
      },
      "source": [
        "### 파일별 용도 파악"
      ]
    },
    {
      "cell_type": "code",
      "execution_count": null,
      "id": "b4813392",
      "metadata": {
        "id": "b4813392",
        "outputId": "a94c4c36-2209-4d84-8629-58a578786a13"
      },
      "outputs": [
        {
          "name": "stderr",
          "output_type": "stream",
          "text": [
            "UsageError: Line magic function `%matplotlib.inline` not found.\n"
          ]
        }
      ],
      "source": [
        "import pandas as pd\n",
        "from pandas import DataFrame\n",
        "import numpy as np\n",
        "import seaborn as sns\n",
        "import matplotlib as mpl\n",
        "import matplotlib.pyplot as plt\n",
        "%matplotlib.inline\n",
        "import os"
      ]
    },
    {
      "cell_type": "code",
      "execution_count": null,
      "id": "1ab25c39",
      "metadata": {
        "id": "1ab25c39"
      },
      "outputs": [],
      "source": [
        "os.getcwd()"
      ]
    },
    {
      "cell_type": "code",
      "execution_count": null,
      "id": "0afe6c6d",
      "metadata": {
        "id": "0afe6c6d"
      },
      "outputs": [],
      "source": [
        "fifa_test = pd.read_csv('./FIFA_test.csv')\n",
        "fifa_train = pd.read_csv('./FIFA_train.csv')\n",
        "fifa_submission = pd.read_csv('./submission.csv')"
      ]
    },
    {
      "cell_type": "markdown",
      "id": "8695552c",
      "metadata": {
        "id": "8695552c"
      },
      "source": [
        "### 데이터 양(레코드 수, 피처 수, 전체 용량 등)"
      ]
    },
    {
      "cell_type": "code",
      "execution_count": null,
      "id": "7ebb412b",
      "metadata": {
        "id": "7ebb412b"
      },
      "outputs": [],
      "source": [
        "#테스트데이터 용량 - 329.1kb \n",
        "#테스트데이터 피처수 11\n",
        "#테스트데이터 레코드수 3827\n",
        "#  컬렴명해석\n",
        "#  id : 선수 고유의 아이디\n",
        "#  name : 이름\n",
        "#  age : 나이\n",
        "#  continent : 선수들의 국적이 포함되어 있는 대륙입니다\n",
        "#  contract_until : 선수의 계약기간이 언제까지인지 나타내어 줍니다\n",
        "#  position : 선수가 선호하는 포지션입니다. ex) 공격수, 수비수 등\n",
        "#  prefer_foot : 선수가 선호하는 발입니다. ex) 오른발\n",
        "#  reputation : 선수가 유명한 정도입니다. ex) 높은 수치일 수록 유명한 선수\n",
        "#  stat_overall : 선수의 현재 능력치 입니다.!!!!\n",
        "#  stat_potential : 선수가 경험 및 노력을 통해 발전할 수 있는 정도입니다.!!!!\n",
        "#  stat_skill_moves : 선수의 개인기 능력치 입니다.\n",
        "#  idid : FIFA가 선정한 선수의 이적 시장 가격 (단위 : 유로) 입니다"
      ]
    },
    {
      "cell_type": "code",
      "execution_count": null,
      "id": "326e333b",
      "metadata": {
        "id": "326e333b"
      },
      "outputs": [],
      "source": [
        "fifa_test.info()"
      ]
    },
    {
      "cell_type": "code",
      "execution_count": null,
      "id": "6f6316d1",
      "metadata": {
        "id": "6f6316d1"
      },
      "outputs": [],
      "source": [
        "fifa_test.head()"
      ]
    },
    {
      "cell_type": "markdown",
      "id": "c6f5d098",
      "metadata": {
        "id": "c6f5d098"
      },
      "source": [
        "### 피처 이해(이름, 의미, 데이터 타입, 결측값 개수, 고윳값개수, 실제값, 데이터 종류 등)"
      ]
    },
    {
      "cell_type": "code",
      "execution_count": null,
      "id": "66a28412",
      "metadata": {
        "id": "66a28412"
      },
      "outputs": [],
      "source": [
        ""
      ]
    },
    {
      "cell_type": "code",
      "execution_count": null,
      "id": "fe008c6f",
      "metadata": {
        "id": "fe008c6f"
      },
      "outputs": [],
      "source": [
        "#데이터 타입\n",
        "type(fifa_test)"
      ]
    },
    {
      "cell_type": "code",
      "execution_count": null,
      "id": "12787228",
      "metadata": {
        "scrolled": true,
        "id": "12787228"
      },
      "outputs": [],
      "source": [
        "#결측값 개수\n",
        "pd.isnull(fifa_test)"
      ]
    },
    {
      "cell_type": "code",
      "execution_count": null,
      "id": "35a956e2",
      "metadata": {
        "id": "35a956e2"
      },
      "outputs": [],
      "source": [
        "# 고윳값 개수"
      ]
    },
    {
      "cell_type": "code",
      "execution_count": null,
      "id": "45fd1d88",
      "metadata": {
        "id": "45fd1d88"
      },
      "outputs": [],
      "source": [
        "# 실제값"
      ]
    },
    {
      "cell_type": "code",
      "execution_count": null,
      "id": "43aa78a2",
      "metadata": {
        "id": "43aa78a2",
        "outputId": "bf6caad2-0f0d-47d3-b8bd-c5f64a7efdf7"
      },
      "outputs": [
        {
          "data": {
            "text/html": [
              "<div>\n",
              "<style scoped>\n",
              "    .dataframe tbody tr th:only-of-type {\n",
              "        vertical-align: middle;\n",
              "    }\n",
              "\n",
              "    .dataframe tbody tr th {\n",
              "        vertical-align: top;\n",
              "    }\n",
              "\n",
              "    .dataframe thead th {\n",
              "        text-align: right;\n",
              "    }\n",
              "</style>\n",
              "<table border=\"1\" class=\"dataframe\">\n",
              "  <thead>\n",
              "    <tr style=\"text-align: right;\">\n",
              "      <th></th>\n",
              "      <th>id</th>\n",
              "      <th>name</th>\n",
              "      <th>age</th>\n",
              "      <th>continent</th>\n",
              "      <th>contract_until</th>\n",
              "      <th>position</th>\n",
              "      <th>prefer_foot</th>\n",
              "      <th>reputation</th>\n",
              "      <th>stat_overall</th>\n",
              "      <th>stat_potential</th>\n",
              "      <th>stat_skill_moves</th>\n",
              "    </tr>\n",
              "  </thead>\n",
              "  <tbody>\n",
              "    <tr>\n",
              "      <th>0</th>\n",
              "      <td>1</td>\n",
              "      <td>Cristiano Ronaldo</td>\n",
              "      <td>33</td>\n",
              "      <td>europe</td>\n",
              "      <td>2022</td>\n",
              "      <td>ST</td>\n",
              "      <td>right</td>\n",
              "      <td>5.0</td>\n",
              "      <td>94</td>\n",
              "      <td>94</td>\n",
              "      <td>5.0</td>\n",
              "    </tr>\n",
              "    <tr>\n",
              "      <th>1</th>\n",
              "      <td>2</td>\n",
              "      <td>Neymar Jr</td>\n",
              "      <td>26</td>\n",
              "      <td>south america</td>\n",
              "      <td>2022</td>\n",
              "      <td>ST</td>\n",
              "      <td>right</td>\n",
              "      <td>5.0</td>\n",
              "      <td>92</td>\n",
              "      <td>93</td>\n",
              "      <td>5.0</td>\n",
              "    </tr>\n",
              "    <tr>\n",
              "      <th>2</th>\n",
              "      <td>4</td>\n",
              "      <td>K. De Bruyne</td>\n",
              "      <td>27</td>\n",
              "      <td>europe</td>\n",
              "      <td>2023</td>\n",
              "      <td>MF</td>\n",
              "      <td>right</td>\n",
              "      <td>4.0</td>\n",
              "      <td>91</td>\n",
              "      <td>92</td>\n",
              "      <td>4.0</td>\n",
              "    </tr>\n",
              "    <tr>\n",
              "      <th>3</th>\n",
              "      <td>5</td>\n",
              "      <td>E. Hazard</td>\n",
              "      <td>27</td>\n",
              "      <td>europe</td>\n",
              "      <td>2020</td>\n",
              "      <td>ST</td>\n",
              "      <td>right</td>\n",
              "      <td>4.0</td>\n",
              "      <td>91</td>\n",
              "      <td>91</td>\n",
              "      <td>4.0</td>\n",
              "    </tr>\n",
              "    <tr>\n",
              "      <th>4</th>\n",
              "      <td>6</td>\n",
              "      <td>L. Modrić</td>\n",
              "      <td>32</td>\n",
              "      <td>europe</td>\n",
              "      <td>2020</td>\n",
              "      <td>MF</td>\n",
              "      <td>right</td>\n",
              "      <td>4.0</td>\n",
              "      <td>91</td>\n",
              "      <td>91</td>\n",
              "      <td>4.0</td>\n",
              "    </tr>\n",
              "  </tbody>\n",
              "</table>\n",
              "</div>"
            ],
            "text/plain": [
              "   id               name  age      continent contract_until position  \\\n",
              "0   1  Cristiano Ronaldo   33         europe           2022       ST   \n",
              "1   2          Neymar Jr   26  south america           2022       ST   \n",
              "2   4       K. De Bruyne   27         europe           2023       MF   \n",
              "3   5          E. Hazard   27         europe           2020       ST   \n",
              "4   6          L. Modrić   32         europe           2020       MF   \n",
              "\n",
              "  prefer_foot  reputation  stat_overall  stat_potential  stat_skill_moves  \n",
              "0       right         5.0            94              94               5.0  \n",
              "1       right         5.0            92              93               5.0  \n",
              "2       right         4.0            91              92               4.0  \n",
              "3       right         4.0            91              91               4.0  \n",
              "4       right         4.0            91              91               4.0  "
            ]
          },
          "execution_count": 118,
          "metadata": {},
          "output_type": "execute_result"
        }
      ],
      "source": [
        "# 데이터 종류\n",
        "fifa_test.head()"
      ]
    },
    {
      "cell_type": "markdown",
      "id": "62067553",
      "metadata": {
        "id": "62067553"
      },
      "source": [
        "### 훈련 데이터와 테스트 데이터 차이"
      ]
    },
    {
      "cell_type": "code",
      "execution_count": null,
      "id": "4e0ebdd5",
      "metadata": {
        "id": "4e0ebdd5"
      },
      "outputs": [],
      "source": [
        "#테스터"
      ]
    },
    {
      "cell_type": "code",
      "execution_count": null,
      "id": "f77b61cb",
      "metadata": {
        "id": "f77b61cb",
        "outputId": "1425fa88-8512-4ae9-9ce1-dd1886c8a5a7"
      },
      "outputs": [
        {
          "name": "stdout",
          "output_type": "stream",
          "text": [
            "<class 'pandas.core.frame.DataFrame'>\n",
            "RangeIndex: 3828 entries, 0 to 3827\n",
            "Data columns (total 11 columns):\n",
            " #   Column            Non-Null Count  Dtype  \n",
            "---  ------            --------------  -----  \n",
            " 0   id                3828 non-null   int64  \n",
            " 1   name              3828 non-null   object \n",
            " 2   age               3828 non-null   int64  \n",
            " 3   continent         3828 non-null   object \n",
            " 4   contract_until    3828 non-null   object \n",
            " 5   position          3828 non-null   object \n",
            " 6   prefer_foot       3828 non-null   object \n",
            " 7   reputation        3828 non-null   float64\n",
            " 8   stat_overall      3828 non-null   int64  \n",
            " 9   stat_potential    3828 non-null   int64  \n",
            " 10  stat_skill_moves  3828 non-null   float64\n",
            "dtypes: float64(2), int64(4), object(5)\n",
            "memory usage: 329.1+ KB\n"
          ]
        }
      ],
      "source": [
        "fifa_test.info()"
      ]
    },
    {
      "cell_type": "code",
      "execution_count": null,
      "id": "5daa53b1",
      "metadata": {
        "id": "5daa53b1",
        "outputId": "6de878d4-84a4-4a8e-b3af-59daedc7f997"
      },
      "outputs": [
        {
          "data": {
            "text/html": [
              "<div>\n",
              "<style scoped>\n",
              "    .dataframe tbody tr th:only-of-type {\n",
              "        vertical-align: middle;\n",
              "    }\n",
              "\n",
              "    .dataframe tbody tr th {\n",
              "        vertical-align: top;\n",
              "    }\n",
              "\n",
              "    .dataframe thead th {\n",
              "        text-align: right;\n",
              "    }\n",
              "</style>\n",
              "<table border=\"1\" class=\"dataframe\">\n",
              "  <thead>\n",
              "    <tr style=\"text-align: right;\">\n",
              "      <th></th>\n",
              "      <th>id</th>\n",
              "      <th>age</th>\n",
              "      <th>reputation</th>\n",
              "      <th>stat_overall</th>\n",
              "      <th>stat_potential</th>\n",
              "      <th>stat_skill_moves</th>\n",
              "    </tr>\n",
              "  </thead>\n",
              "  <tbody>\n",
              "    <tr>\n",
              "      <th>count</th>\n",
              "      <td>3828.000000</td>\n",
              "      <td>3828.000000</td>\n",
              "      <td>3828.000000</td>\n",
              "      <td>3828.000000</td>\n",
              "      <td>3828.000000</td>\n",
              "      <td>3828.000000</td>\n",
              "    </tr>\n",
              "    <tr>\n",
              "      <th>mean</th>\n",
              "      <td>7846.258098</td>\n",
              "      <td>25.297806</td>\n",
              "      <td>1.143939</td>\n",
              "      <td>67.336991</td>\n",
              "      <td>72.107628</td>\n",
              "      <td>2.414838</td>\n",
              "    </tr>\n",
              "    <tr>\n",
              "      <th>std</th>\n",
              "      <td>4870.339361</td>\n",
              "      <td>4.628236</td>\n",
              "      <td>0.448465</td>\n",
              "      <td>6.908814</td>\n",
              "      <td>6.133428</td>\n",
              "      <td>0.781153</td>\n",
              "    </tr>\n",
              "    <tr>\n",
              "      <th>min</th>\n",
              "      <td>1.000000</td>\n",
              "      <td>16.000000</td>\n",
              "      <td>1.000000</td>\n",
              "      <td>47.000000</td>\n",
              "      <td>52.000000</td>\n",
              "      <td>1.000000</td>\n",
              "    </tr>\n",
              "    <tr>\n",
              "      <th>25%</th>\n",
              "      <td>3466.250000</td>\n",
              "      <td>22.000000</td>\n",
              "      <td>1.000000</td>\n",
              "      <td>63.000000</td>\n",
              "      <td>68.000000</td>\n",
              "      <td>2.000000</td>\n",
              "    </tr>\n",
              "    <tr>\n",
              "      <th>50%</th>\n",
              "      <td>7643.500000</td>\n",
              "      <td>25.000000</td>\n",
              "      <td>1.000000</td>\n",
              "      <td>67.000000</td>\n",
              "      <td>72.000000</td>\n",
              "      <td>2.000000</td>\n",
              "    </tr>\n",
              "    <tr>\n",
              "      <th>75%</th>\n",
              "      <td>11967.000000</td>\n",
              "      <td>29.000000</td>\n",
              "      <td>1.000000</td>\n",
              "      <td>72.000000</td>\n",
              "      <td>76.000000</td>\n",
              "      <td>3.000000</td>\n",
              "    </tr>\n",
              "    <tr>\n",
              "      <th>max</th>\n",
              "      <td>16943.000000</td>\n",
              "      <td>42.000000</td>\n",
              "      <td>5.000000</td>\n",
              "      <td>94.000000</td>\n",
              "      <td>95.000000</td>\n",
              "      <td>5.000000</td>\n",
              "    </tr>\n",
              "  </tbody>\n",
              "</table>\n",
              "</div>"
            ],
            "text/plain": [
              "                 id          age   reputation  stat_overall  stat_potential  \\\n",
              "count   3828.000000  3828.000000  3828.000000   3828.000000     3828.000000   \n",
              "mean    7846.258098    25.297806     1.143939     67.336991       72.107628   \n",
              "std     4870.339361     4.628236     0.448465      6.908814        6.133428   \n",
              "min        1.000000    16.000000     1.000000     47.000000       52.000000   \n",
              "25%     3466.250000    22.000000     1.000000     63.000000       68.000000   \n",
              "50%     7643.500000    25.000000     1.000000     67.000000       72.000000   \n",
              "75%    11967.000000    29.000000     1.000000     72.000000       76.000000   \n",
              "max    16943.000000    42.000000     5.000000     94.000000       95.000000   \n",
              "\n",
              "       stat_skill_moves  \n",
              "count       3828.000000  \n",
              "mean           2.414838  \n",
              "std            0.781153  \n",
              "min            1.000000  \n",
              "25%            2.000000  \n",
              "50%            2.000000  \n",
              "75%            3.000000  \n",
              "max            5.000000  "
            ]
          },
          "execution_count": 121,
          "metadata": {},
          "output_type": "execute_result"
        }
      ],
      "source": [
        "fifa_test.describe()"
      ]
    },
    {
      "cell_type": "code",
      "execution_count": null,
      "id": "14946b05",
      "metadata": {
        "id": "14946b05",
        "outputId": "e1269636-a926-4b96-a811-2ab51bfdf71d"
      },
      "outputs": [
        {
          "name": "stdout",
          "output_type": "stream",
          "text": [
            "<class 'pandas.core.frame.DataFrame'>\n",
            "RangeIndex: 8932 entries, 0 to 8931\n",
            "Data columns (total 12 columns):\n",
            " #   Column            Non-Null Count  Dtype  \n",
            "---  ------            --------------  -----  \n",
            " 0   id                8932 non-null   int64  \n",
            " 1   name              8932 non-null   object \n",
            " 2   age               8932 non-null   int64  \n",
            " 3   continent         8932 non-null   object \n",
            " 4   contract_until    8932 non-null   object \n",
            " 5   position          8932 non-null   object \n",
            " 6   prefer_foot       8932 non-null   object \n",
            " 7   reputation        8932 non-null   float64\n",
            " 8   stat_overall      8932 non-null   int64  \n",
            " 9   stat_potential    8932 non-null   int64  \n",
            " 10  stat_skill_moves  8932 non-null   float64\n",
            " 11  value             8932 non-null   float64\n",
            "dtypes: float64(3), int64(4), object(5)\n",
            "memory usage: 837.5+ KB\n"
          ]
        }
      ],
      "source": [
        "fifa_train.info()"
      ]
    },
    {
      "cell_type": "code",
      "execution_count": null,
      "id": "f11541ee",
      "metadata": {
        "scrolled": true,
        "id": "f11541ee",
        "outputId": "cac0e6db-16cf-4f61-8cf7-b5d88a4db797"
      },
      "outputs": [
        {
          "data": {
            "text/html": [
              "<div>\n",
              "<style scoped>\n",
              "    .dataframe tbody tr th:only-of-type {\n",
              "        vertical-align: middle;\n",
              "    }\n",
              "\n",
              "    .dataframe tbody tr th {\n",
              "        vertical-align: top;\n",
              "    }\n",
              "\n",
              "    .dataframe thead th {\n",
              "        text-align: right;\n",
              "    }\n",
              "</style>\n",
              "<table border=\"1\" class=\"dataframe\">\n",
              "  <thead>\n",
              "    <tr style=\"text-align: right;\">\n",
              "      <th></th>\n",
              "      <th>id</th>\n",
              "      <th>age</th>\n",
              "      <th>reputation</th>\n",
              "      <th>stat_overall</th>\n",
              "      <th>stat_potential</th>\n",
              "      <th>stat_skill_moves</th>\n",
              "      <th>value</th>\n",
              "    </tr>\n",
              "  </thead>\n",
              "  <tbody>\n",
              "    <tr>\n",
              "      <th>count</th>\n",
              "      <td>8932.000000</td>\n",
              "      <td>8932.000000</td>\n",
              "      <td>8932.000000</td>\n",
              "      <td>8932.000000</td>\n",
              "      <td>8932.000000</td>\n",
              "      <td>8932.000000</td>\n",
              "      <td>8.932000e+03</td>\n",
              "    </tr>\n",
              "    <tr>\n",
              "      <th>mean</th>\n",
              "      <td>7966.775750</td>\n",
              "      <td>25.209136</td>\n",
              "      <td>1.130878</td>\n",
              "      <td>67.091133</td>\n",
              "      <td>71.997201</td>\n",
              "      <td>2.401702</td>\n",
              "      <td>2.778673e+06</td>\n",
              "    </tr>\n",
              "    <tr>\n",
              "      <th>std</th>\n",
              "      <td>4844.428521</td>\n",
              "      <td>4.635515</td>\n",
              "      <td>0.423792</td>\n",
              "      <td>6.854910</td>\n",
              "      <td>5.988147</td>\n",
              "      <td>0.776048</td>\n",
              "      <td>5.840982e+06</td>\n",
              "    </tr>\n",
              "    <tr>\n",
              "      <th>min</th>\n",
              "      <td>0.000000</td>\n",
              "      <td>16.000000</td>\n",
              "      <td>1.000000</td>\n",
              "      <td>47.000000</td>\n",
              "      <td>48.000000</td>\n",
              "      <td>1.000000</td>\n",
              "      <td>1.000000e+04</td>\n",
              "    </tr>\n",
              "    <tr>\n",
              "      <th>25%</th>\n",
              "      <td>3751.750000</td>\n",
              "      <td>21.000000</td>\n",
              "      <td>1.000000</td>\n",
              "      <td>63.000000</td>\n",
              "      <td>68.000000</td>\n",
              "      <td>2.000000</td>\n",
              "      <td>3.750000e+05</td>\n",
              "    </tr>\n",
              "    <tr>\n",
              "      <th>50%</th>\n",
              "      <td>7696.500000</td>\n",
              "      <td>25.000000</td>\n",
              "      <td>1.000000</td>\n",
              "      <td>67.000000</td>\n",
              "      <td>72.000000</td>\n",
              "      <td>2.000000</td>\n",
              "      <td>8.250000e+05</td>\n",
              "    </tr>\n",
              "    <tr>\n",
              "      <th>75%</th>\n",
              "      <td>12082.250000</td>\n",
              "      <td>28.000000</td>\n",
              "      <td>1.000000</td>\n",
              "      <td>72.000000</td>\n",
              "      <td>76.000000</td>\n",
              "      <td>3.000000</td>\n",
              "      <td>2.600000e+06</td>\n",
              "    </tr>\n",
              "    <tr>\n",
              "      <th>max</th>\n",
              "      <td>16948.000000</td>\n",
              "      <td>40.000000</td>\n",
              "      <td>5.000000</td>\n",
              "      <td>94.000000</td>\n",
              "      <td>94.000000</td>\n",
              "      <td>5.000000</td>\n",
              "      <td>1.105000e+08</td>\n",
              "    </tr>\n",
              "  </tbody>\n",
              "</table>\n",
              "</div>"
            ],
            "text/plain": [
              "                 id          age   reputation  stat_overall  stat_potential  \\\n",
              "count   8932.000000  8932.000000  8932.000000   8932.000000     8932.000000   \n",
              "mean    7966.775750    25.209136     1.130878     67.091133       71.997201   \n",
              "std     4844.428521     4.635515     0.423792      6.854910        5.988147   \n",
              "min        0.000000    16.000000     1.000000     47.000000       48.000000   \n",
              "25%     3751.750000    21.000000     1.000000     63.000000       68.000000   \n",
              "50%     7696.500000    25.000000     1.000000     67.000000       72.000000   \n",
              "75%    12082.250000    28.000000     1.000000     72.000000       76.000000   \n",
              "max    16948.000000    40.000000     5.000000     94.000000       94.000000   \n",
              "\n",
              "       stat_skill_moves         value  \n",
              "count       8932.000000  8.932000e+03  \n",
              "mean           2.401702  2.778673e+06  \n",
              "std            0.776048  5.840982e+06  \n",
              "min            1.000000  1.000000e+04  \n",
              "25%            2.000000  3.750000e+05  \n",
              "50%            2.000000  8.250000e+05  \n",
              "75%            3.000000  2.600000e+06  \n",
              "max            5.000000  1.105000e+08  "
            ]
          },
          "execution_count": 123,
          "metadata": {},
          "output_type": "execute_result"
        }
      ],
      "source": [
        "fifa_train.describe()"
      ]
    },
    {
      "cell_type": "code",
      "execution_count": null,
      "id": "b698084e",
      "metadata": {
        "id": "b698084e",
        "outputId": "019fd50c-27d7-4e5e-e3c1-400304d44d12"
      },
      "outputs": [
        {
          "data": {
            "text/html": [
              "<div>\n",
              "<style scoped>\n",
              "    .dataframe tbody tr th:only-of-type {\n",
              "        vertical-align: middle;\n",
              "    }\n",
              "\n",
              "    .dataframe tbody tr th {\n",
              "        vertical-align: top;\n",
              "    }\n",
              "\n",
              "    .dataframe thead th {\n",
              "        text-align: right;\n",
              "    }\n",
              "</style>\n",
              "<table border=\"1\" class=\"dataframe\">\n",
              "  <thead>\n",
              "    <tr style=\"text-align: right;\">\n",
              "      <th></th>\n",
              "      <th>id</th>\n",
              "      <th>name</th>\n",
              "      <th>age</th>\n",
              "      <th>continent</th>\n",
              "      <th>contract_until</th>\n",
              "      <th>position</th>\n",
              "      <th>prefer_foot</th>\n",
              "      <th>reputation</th>\n",
              "      <th>stat_overall</th>\n",
              "      <th>stat_potential</th>\n",
              "      <th>stat_skill_moves</th>\n",
              "    </tr>\n",
              "  </thead>\n",
              "  <tbody>\n",
              "    <tr>\n",
              "      <th>count</th>\n",
              "      <td>3828.000000</td>\n",
              "      <td>3828</td>\n",
              "      <td>3828.000000</td>\n",
              "      <td>3828</td>\n",
              "      <td>3828</td>\n",
              "      <td>3828</td>\n",
              "      <td>3828</td>\n",
              "      <td>3828.000000</td>\n",
              "      <td>3828.000000</td>\n",
              "      <td>3828.000000</td>\n",
              "      <td>3828.000000</td>\n",
              "    </tr>\n",
              "    <tr>\n",
              "      <th>unique</th>\n",
              "      <td>NaN</td>\n",
              "      <td>3828</td>\n",
              "      <td>NaN</td>\n",
              "      <td>5</td>\n",
              "      <td>18</td>\n",
              "      <td>4</td>\n",
              "      <td>2</td>\n",
              "      <td>NaN</td>\n",
              "      <td>NaN</td>\n",
              "      <td>NaN</td>\n",
              "      <td>NaN</td>\n",
              "    </tr>\n",
              "    <tr>\n",
              "      <th>top</th>\n",
              "      <td>NaN</td>\n",
              "      <td>Cristiano Ronaldo</td>\n",
              "      <td>NaN</td>\n",
              "      <td>europe</td>\n",
              "      <td>2021</td>\n",
              "      <td>MF</td>\n",
              "      <td>right</td>\n",
              "      <td>NaN</td>\n",
              "      <td>NaN</td>\n",
              "      <td>NaN</td>\n",
              "      <td>NaN</td>\n",
              "    </tr>\n",
              "    <tr>\n",
              "      <th>freq</th>\n",
              "      <td>NaN</td>\n",
              "      <td>1</td>\n",
              "      <td>NaN</td>\n",
              "      <td>2269</td>\n",
              "      <td>985</td>\n",
              "      <td>1431</td>\n",
              "      <td>2915</td>\n",
              "      <td>NaN</td>\n",
              "      <td>NaN</td>\n",
              "      <td>NaN</td>\n",
              "      <td>NaN</td>\n",
              "    </tr>\n",
              "    <tr>\n",
              "      <th>mean</th>\n",
              "      <td>7846.258098</td>\n",
              "      <td>NaN</td>\n",
              "      <td>25.297806</td>\n",
              "      <td>NaN</td>\n",
              "      <td>NaN</td>\n",
              "      <td>NaN</td>\n",
              "      <td>NaN</td>\n",
              "      <td>1.143939</td>\n",
              "      <td>67.336991</td>\n",
              "      <td>72.107628</td>\n",
              "      <td>2.414838</td>\n",
              "    </tr>\n",
              "    <tr>\n",
              "      <th>std</th>\n",
              "      <td>4870.339361</td>\n",
              "      <td>NaN</td>\n",
              "      <td>4.628236</td>\n",
              "      <td>NaN</td>\n",
              "      <td>NaN</td>\n",
              "      <td>NaN</td>\n",
              "      <td>NaN</td>\n",
              "      <td>0.448465</td>\n",
              "      <td>6.908814</td>\n",
              "      <td>6.133428</td>\n",
              "      <td>0.781153</td>\n",
              "    </tr>\n",
              "    <tr>\n",
              "      <th>min</th>\n",
              "      <td>1.000000</td>\n",
              "      <td>NaN</td>\n",
              "      <td>16.000000</td>\n",
              "      <td>NaN</td>\n",
              "      <td>NaN</td>\n",
              "      <td>NaN</td>\n",
              "      <td>NaN</td>\n",
              "      <td>1.000000</td>\n",
              "      <td>47.000000</td>\n",
              "      <td>52.000000</td>\n",
              "      <td>1.000000</td>\n",
              "    </tr>\n",
              "    <tr>\n",
              "      <th>25%</th>\n",
              "      <td>3466.250000</td>\n",
              "      <td>NaN</td>\n",
              "      <td>22.000000</td>\n",
              "      <td>NaN</td>\n",
              "      <td>NaN</td>\n",
              "      <td>NaN</td>\n",
              "      <td>NaN</td>\n",
              "      <td>1.000000</td>\n",
              "      <td>63.000000</td>\n",
              "      <td>68.000000</td>\n",
              "      <td>2.000000</td>\n",
              "    </tr>\n",
              "    <tr>\n",
              "      <th>50%</th>\n",
              "      <td>7643.500000</td>\n",
              "      <td>NaN</td>\n",
              "      <td>25.000000</td>\n",
              "      <td>NaN</td>\n",
              "      <td>NaN</td>\n",
              "      <td>NaN</td>\n",
              "      <td>NaN</td>\n",
              "      <td>1.000000</td>\n",
              "      <td>67.000000</td>\n",
              "      <td>72.000000</td>\n",
              "      <td>2.000000</td>\n",
              "    </tr>\n",
              "    <tr>\n",
              "      <th>75%</th>\n",
              "      <td>11967.000000</td>\n",
              "      <td>NaN</td>\n",
              "      <td>29.000000</td>\n",
              "      <td>NaN</td>\n",
              "      <td>NaN</td>\n",
              "      <td>NaN</td>\n",
              "      <td>NaN</td>\n",
              "      <td>1.000000</td>\n",
              "      <td>72.000000</td>\n",
              "      <td>76.000000</td>\n",
              "      <td>3.000000</td>\n",
              "    </tr>\n",
              "    <tr>\n",
              "      <th>max</th>\n",
              "      <td>16943.000000</td>\n",
              "      <td>NaN</td>\n",
              "      <td>42.000000</td>\n",
              "      <td>NaN</td>\n",
              "      <td>NaN</td>\n",
              "      <td>NaN</td>\n",
              "      <td>NaN</td>\n",
              "      <td>5.000000</td>\n",
              "      <td>94.000000</td>\n",
              "      <td>95.000000</td>\n",
              "      <td>5.000000</td>\n",
              "    </tr>\n",
              "  </tbody>\n",
              "</table>\n",
              "</div>"
            ],
            "text/plain": [
              "                  id               name          age continent contract_until  \\\n",
              "count    3828.000000               3828  3828.000000      3828           3828   \n",
              "unique           NaN               3828          NaN         5             18   \n",
              "top              NaN  Cristiano Ronaldo          NaN    europe           2021   \n",
              "freq             NaN                  1          NaN      2269            985   \n",
              "mean     7846.258098                NaN    25.297806       NaN            NaN   \n",
              "std      4870.339361                NaN     4.628236       NaN            NaN   \n",
              "min         1.000000                NaN    16.000000       NaN            NaN   \n",
              "25%      3466.250000                NaN    22.000000       NaN            NaN   \n",
              "50%      7643.500000                NaN    25.000000       NaN            NaN   \n",
              "75%     11967.000000                NaN    29.000000       NaN            NaN   \n",
              "max     16943.000000                NaN    42.000000       NaN            NaN   \n",
              "\n",
              "       position prefer_foot   reputation  stat_overall  stat_potential  \\\n",
              "count      3828        3828  3828.000000   3828.000000     3828.000000   \n",
              "unique        4           2          NaN           NaN             NaN   \n",
              "top          MF       right          NaN           NaN             NaN   \n",
              "freq       1431        2915          NaN           NaN             NaN   \n",
              "mean        NaN         NaN     1.143939     67.336991       72.107628   \n",
              "std         NaN         NaN     0.448465      6.908814        6.133428   \n",
              "min         NaN         NaN     1.000000     47.000000       52.000000   \n",
              "25%         NaN         NaN     1.000000     63.000000       68.000000   \n",
              "50%         NaN         NaN     1.000000     67.000000       72.000000   \n",
              "75%         NaN         NaN     1.000000     72.000000       76.000000   \n",
              "max         NaN         NaN     5.000000     94.000000       95.000000   \n",
              "\n",
              "        stat_skill_moves  \n",
              "count        3828.000000  \n",
              "unique               NaN  \n",
              "top                  NaN  \n",
              "freq                 NaN  \n",
              "mean            2.414838  \n",
              "std             0.781153  \n",
              "min             1.000000  \n",
              "25%             2.000000  \n",
              "50%             2.000000  \n",
              "75%             3.000000  \n",
              "max             5.000000  "
            ]
          },
          "execution_count": 124,
          "metadata": {},
          "output_type": "execute_result"
        }
      ],
      "source": [
        "fifa_test.describe(include = 'all')"
      ]
    },
    {
      "cell_type": "markdown",
      "id": "7b928cc9",
      "metadata": {
        "id": "7b928cc9"
      },
      "source": [
        "### 타깃값 : 제출(예측)해야 하는 값"
      ]
    },
    {
      "cell_type": "code",
      "execution_count": null,
      "id": "93e729e5",
      "metadata": {
        "id": "93e729e5"
      },
      "outputs": [],
      "source": [
        "#주어진 데이터를 바탕으로 선수 이적료를 예측해보세여"
      ]
    },
    {
      "cell_type": "markdown",
      "id": "226c9995",
      "metadata": {
        "id": "226c9995"
      },
      "source": [
        "# 데이터 시각화"
      ]
    },
    {
      "cell_type": "markdown",
      "id": "d68e9244",
      "metadata": {
        "id": "d68e9244"
      },
      "source": [
        "### (필요시) 효과적인 시각화를 위한 피처 엔지니어링"
      ]
    },
    {
      "cell_type": "code",
      "execution_count": null,
      "id": "1d0963ce",
      "metadata": {
        "id": "1d0963ce"
      },
      "outputs": [],
      "source": [
        ""
      ]
    },
    {
      "cell_type": "markdown",
      "id": "ee5f6168",
      "metadata": {
        "id": "ee5f6168"
      },
      "source": [
        "### 각종 시각화"
      ]
    },
    {
      "cell_type": "code",
      "execution_count": null,
      "id": "97e6c9ee",
      "metadata": {
        "id": "97e6c9ee",
        "outputId": "aa1631c0-9d04-430b-dd74-001393d75414"
      },
      "outputs": [
        {
          "data": {
            "image/png": "[encoded data removed]",
            "text/plain": [
              "<Figure size 360x360 with 1 Axes>"
            ]
          },
          "metadata": {
            "needs_background": "light"
          },
          "output_type": "display_data"
        }
      ],
      "source": [
        "mpl.rc('font',size=20)\n",
        "sns.displot(fifa_train['value']);\n",
        "#value가 몇개가 있는가?\n",
        "#왼쪽으로 편향되어있기 때문에 회귀모델을 쓸시 성능이 좋지 않다\n",
        "#평향되어 있을때는 로그변환을 해주면된다."
      ]
    },
    {
      "cell_type": "code",
      "execution_count": null,
      "id": "9ce2754d",
      "metadata": {
        "id": "9ce2754d",
        "outputId": "14092c40-ea32-4834-f3ba-c3234aa0c342"
      },
      "outputs": [
        {
          "data": {
            "image/png": "[encoded data removed]",
            "text/plain": [
              "<Figure size 360x360 with 1 Axes>"
            ]
          },
          "metadata": {
            "needs_background": "light"
          },
          "output_type": "display_data"
        }
      ],
      "source": [
        "sns.displot(np.log(fifa_train['stat_overall']));"
      ]
    },
    {
      "cell_type": "code",
      "execution_count": null,
      "id": "4086df42",
      "metadata": {
        "scrolled": true,
        "id": "4086df42",
        "outputId": "03061adb-6c50-47e4-b57f-13721c8ef9ea"
      },
      "outputs": [
        {
          "data": {
            "image/png": "[encoded data removed]",
            "text/plain": [
              "<Figure size 360x360 with 1 Axes>"
            ]
          },
          "metadata": {
            "needs_background": "light"
          },
          "output_type": "display_data"
        }
      ],
      "source": [
        "sns.displot(np.log(fifa_train['stat_potential']));"
      ]
    },
    {
      "cell_type": "code",
      "execution_count": null,
      "id": "be27fca2",
      "metadata": {
        "id": "be27fca2",
        "outputId": "cf440ebb-c6a8-41fc-bb22-0dc0cb588951"
      },
      "outputs": [
        {
          "data": {
            "image/png": "[encoded data removed]",
            "text/plain": [
              "<Figure size 360x360 with 1 Axes>"
            ]
          },
          "metadata": {
            "needs_background": "light"
          },
          "output_type": "display_data"
        }
      ],
      "source": [
        "sns.displot(np.log(fifa_train['age']));"
      ]
    },
    {
      "cell_type": "markdown",
      "id": "59024f0e",
      "metadata": {
        "id": "59024f0e"
      },
      "source": [
        "##### 수치형 데이터 시각화"
      ]
    },
    {
      "cell_type": "code",
      "execution_count": null,
      "id": "38b459fb",
      "metadata": {
        "id": "38b459fb",
        "outputId": "d587d817-32df-45bf-c37e-c627ccd24145"
      },
      "outputs": [
        {
          "data": {
            "text/plain": [
              "<AxesSubplot:xlabel='age', ylabel='value'>"
            ]
          },
          "execution_count": 130,
          "metadata": {},
          "output_type": "execute_result"
        },
        {
          "data": {
            "image/png": "[encoded data removed]",
            "text/plain": [
              "<Figure size 1080x1008 with 6 Axes>"
            ]
          },
          "metadata": {
            "needs_background": "light"
          },
          "output_type": "display_data"
        }
      ],
      "source": [
        "mpl.rc('font', size=13)\n",
        "mpl.rc('axes', titlesize=16)\n",
        "figure, axes = plt.subplots(nrows=3, ncols=2)\n",
        "plt.tight_layout()\n",
        "figure.set_size_inches(15, 14)\n",
        "\n",
        "sns.barplot(x='contract_until', y='value', data=fifa_train, ax=axes[0,0])\n",
        "sns.barplot(x='reputation', y='value', data=fifa_train, ax=axes[0,1])\n",
        "sns.barplot(x='stat_overall', y='value', data=fifa_train, ax=axes[1,0])\n",
        "sns.barplot(x='stat_potential', y='value', data=fifa_train, ax=axes[1,1])\n",
        "sns.barplot(x='stat_skill_moves', y='value', data=fifa_train, ax=axes[2,0])\n",
        "sns.barplot(x='age', y='value', data=fifa_train, ax=axes[2,1])\n"
      ]
    },
    {
      "cell_type": "code",
      "execution_count": null,
      "id": "1c813d21",
      "metadata": {
        "scrolled": true,
        "id": "1c813d21",
        "outputId": "c5f83c42-71d9-49df-e844-df88a5df0427"
      },
      "outputs": [
        {
          "data": {
            "text/plain": [
              "<AxesSubplot:xlabel='contract_until', ylabel='value'>"
            ]
          },
          "execution_count": 190,
          "metadata": {},
          "output_type": "execute_result"
        },
        {
          "data": {
            "image/png": "[encoded data removed]",
            "text/plain": [
              "<Figure size 1296x1224 with 2 Axes>"
            ]
          },
          "metadata": {
            "needs_background": "light"
          },
          "output_type": "display_data"
        }
      ],
      "source": [
        "mpl.rc('font', size=10)\n",
        "mpl.rc('axes', titlesize=3)\n",
        "figure, axes = plt.subplots(nrows=2, ncols=1)\n",
        "plt.tight_layout()\n",
        "figure.set_size_inches(18, 17)\n",
        "\n",
        "sns.barplot(x='contract_until', y='value', data=fifa_train, ax=axes[0])\n"
      ]
    },
    {
      "cell_type": "markdown",
      "id": "45933e78",
      "metadata": {
        "id": "45933e78"
      },
      "source": [
        "##### 수치형 데이터 시각화"
      ]
    },
    {
      "cell_type": "code",
      "execution_count": null,
      "id": "e7ac40fc",
      "metadata": {
        "id": "e7ac40fc",
        "outputId": "8cae1ecb-d103-46af-9257-1b05cfd97a17"
      },
      "outputs": [
        {
          "data": {
            "text/plain": [
              "<AxesSubplot:xlabel='stat_skill_moves', ylabel='value'>"
            ]
          },
          "execution_count": 131,
          "metadata": {},
          "output_type": "execute_result"
        },
        {
          "data": {
            "image/png": "[encoded data removed]",
            "text/plain": [
              "<Figure size 720x720 with 4 Axes>"
            ]
          },
          "metadata": {
            "needs_background": "light"
          },
          "output_type": "display_data"
        }
      ],
      "source": [
        "#박스플롯\n",
        "#스텝 1 : m행 n열 Figure 준비\n",
        "figure, axes = plt.subplots(nrows=2, ncols=2)\n",
        "plt.tight_layout()\n",
        "figure.set_size_inches(10, 10)\n",
        "\n",
        "#스텝 2 : 서브플롯 할당\n",
        "#유명도, 선수의현재능력치, 선수의 노력과 발전정도, 선수의개인능력치 수량 박스플롯\n",
        "sns.boxplot(x='reputation', y='value', data=fifa_train, ax=axes[0,0])\n",
        "sns.boxplot(x='stat_overall', y='value', data=fifa_train, ax=axes[0,1])\n",
        "sns.boxplot(x='stat_potential', y='value', data=fifa_train, ax=axes[1,0])\n",
        "sns.boxplot(x='stat_skill_moves', y='value', data=fifa_train, ax=axes[1,1])\n",
        "\n"
      ]
    },
    {
      "cell_type": "code",
      "execution_count": null,
      "id": "204a3ccc",
      "metadata": {
        "id": "204a3ccc",
        "outputId": "d1ebce34-a0f1-4448-8e9a-1aecc5b559c8"
      },
      "outputs": [
        {
          "data": {
            "text/plain": [
              "<AxesSubplot:xlabel='value', ylabel='continent'>"
            ]
          },
          "execution_count": 132,
          "metadata": {},
          "output_type": "execute_result"
        },
        {
          "data": {
            "image/png": "[encoded data removed]",
            "text/plain": [
              "<Figure size 864x1296 with 6 Axes>"
            ]
          },
          "metadata": {
            "needs_background": "light"
          },
          "output_type": "display_data"
        }
      ],
      "source": [
        "#포인트플롯\n",
        "#스텝 1 : m행 n열 Figure 선택\n",
        "mpl.rc('font', size=11)\n",
        "figure, axes = plt.subplots(nrows=6) # 5행 1열\n",
        "figure.set_size_inches(12, 18)\n",
        "\n",
        "#스텝 2 : 서브플롯 할당\n",
        "#나이, 계약기간, 유명도, 현재능력치, 발전도, 개인기능력치 포인트플롯\n",
        "sns.pointplot(x='value', y='continent', data=fifa_train, hue='age', ax=axes[0])\n",
        "sns.pointplot(x='value', y='continent', data=fifa_train, hue='contract_until', ax=axes[1])\n",
        "sns.pointplot(x='value', y='continent', data=fifa_train, hue='reputation', ax=axes[2])\n",
        "sns.pointplot(x='value', y='continent', data=fifa_train, hue='stat_overall', ax=axes[3])\n",
        "sns.pointplot(x='value', y='continent', data=fifa_train, hue='stat_potential', ax=axes[4])\n",
        "sns.pointplot(x='value', y='continent', data=fifa_train, hue='stat_skill_moves', ax=axes[5])"
      ]
    },
    {
      "cell_type": "code",
      "execution_count": null,
      "id": "d5bf843d",
      "metadata": {
        "id": "d5bf843d",
        "outputId": "7689c528-cbc9-4699-ce49-c7aeb02adb34"
      },
      "outputs": [
        {
          "data": {
            "text/plain": [
              "<AxesSubplot:xlabel='stat_skill_moves', ylabel='id'>"
            ]
          },
          "execution_count": 133,
          "metadata": {},
          "output_type": "execute_result"
        },
        {
          "data": {
            "image/png": "[encoded data removed]",
            "text/plain": [
              "<Figure size 504x432 with 4 Axes>"
            ]
          },
          "metadata": {
            "needs_background": "light"
          },
          "output_type": "display_data"
        }
      ],
      "source": [
        "#스텝 1 : m행과 n열 Fifure 준비\n",
        "mpl.rc('font', size= 15)\n",
        "figure, axes = plt.subplots(nrows=2, ncols=2)\n",
        "plt.tight_layout()\n",
        "figure.set_size_inches(7, 6)\n",
        "\n",
        "#스텝 2 : 서브플롯 할당\n",
        "sns.regplot(x='reputation', y='id', data=fifa_train, ax=axes[0,0],\n",
        "           scatter_kws={'alpha': 0.2}, line_kws={'color':'blue'})\n",
        "sns.regplot(x='stat_overall', y='id', data=fifa_train, ax=axes[0,1],\n",
        "           scatter_kws={'alpha': 0.2}, line_kws={'color':'red'})\n",
        "sns.regplot(x='stat_potential', y='id', data=fifa_train, ax=axes[1,0],\n",
        "           scatter_kws={'alpha': 0.2}, line_kws={'color':'yellow'})\n",
        "sns.regplot(x='stat_skill_moves', y='id', data=fifa_train, ax=axes[1,1],\n",
        "           scatter_kws={'alpha': 0.2}, line_kws={'color':'green'})"
      ]
    },
    {
      "cell_type": "markdown",
      "id": "f79e76dd",
      "metadata": {
        "id": "f79e76dd"
      },
      "source": [
        "##### 범주형 데이터 시각화"
      ]
    },
    {
      "cell_type": "code",
      "execution_count": null,
      "id": "b863edf5",
      "metadata": {
        "id": "b863edf5"
      },
      "outputs": [],
      "source": [
        ""
      ]
    },
    {
      "cell_type": "markdown",
      "id": "2e61884b",
      "metadata": {
        "id": "2e61884b"
      },
      "source": [
        "##### 데이터 관계 시각화"
      ]
    },
    {
      "cell_type": "code",
      "execution_count": null,
      "id": "4e545442",
      "metadata": {
        "id": "4e545442",
        "outputId": "949cc357-0043-4c8d-841c-38484de5c45e"
      },
      "outputs": [
        {
          "data": {
            "text/plain": [
              "<AxesSubplot:>"
            ]
          },
          "execution_count": 134,
          "metadata": {},
          "output_type": "execute_result"
        },
        {
          "data": {
            "image/png": "[encoded data removed]",
            "text/plain": [
              "<Figure size 720x720 with 2 Axes>"
            ]
          },
          "metadata": {
            "needs_background": "light"
          },
          "output_type": "display_data"
        }
      ],
      "source": [
        "corrMat = fifa_train[['age','contract_until','reputation','stat_overall','stat_potential','stat_skill_moves','value']].corr()\n",
        "fig, ax = plt.subplots()\n",
        "fig.set_size_inches(10,10)\n",
        "sns.heatmap(corrMat, annot=True)"
      ]
    },
    {
      "cell_type": "markdown",
      "id": "18e9bc56",
      "metadata": {
        "id": "18e9bc56"
      },
      "source": [
        "### 피처 파악"
      ]
    },
    {
      "cell_type": "markdown",
      "id": "f688e337",
      "metadata": {
        "id": "f688e337"
      },
      "source": [
        "##### 추가할 피처 :"
      ]
    },
    {
      "cell_type": "code",
      "execution_count": null,
      "id": "c6d7fc86",
      "metadata": {
        "id": "c6d7fc86"
      },
      "outputs": [],
      "source": [
        "# 따로 추가할 피처가 없어보인다"
      ]
    },
    {
      "cell_type": "markdown",
      "id": "f4832e89",
      "metadata": {
        "id": "f4832e89"
      },
      "source": [
        "##### 제거할 피처 :"
      ]
    },
    {
      "cell_type": "code",
      "execution_count": null,
      "id": "c5927d98",
      "metadata": {
        "id": "c5927d98"
      },
      "outputs": [],
      "source": [
        "#id 와 name 가 필요없을것 같다"
      ]
    },
    {
      "cell_type": "markdown",
      "id": "c30f3325",
      "metadata": {
        "id": "c30f3325"
      },
      "source": [
        "##### 피처별 인코딩 전략 :"
      ]
    },
    {
      "cell_type": "code",
      "execution_count": null,
      "id": "f7968cc5",
      "metadata": {
        "id": "f7968cc5"
      },
      "outputs": [],
      "source": [
        ""
      ]
    },
    {
      "cell_type": "markdown",
      "id": "e9d7a4e8",
      "metadata": {
        "id": "e9d7a4e8"
      },
      "source": [
        "### 이상치 파악"
      ]
    },
    {
      "cell_type": "code",
      "execution_count": null,
      "id": "a8147163",
      "metadata": {
        "id": "a8147163"
      },
      "outputs": [],
      "source": [
        ""
      ]
    },
    {
      "cell_type": "markdown",
      "id": "c837fb85",
      "metadata": {
        "id": "c837fb85"
      },
      "source": [
        "##### 해당 피처별 처리 방법"
      ]
    },
    {
      "cell_type": "code",
      "execution_count": null,
      "id": "d8decd33",
      "metadata": {
        "id": "d8decd33"
      },
      "outputs": [],
      "source": [
        ""
      ]
    },
    {
      "cell_type": "markdown",
      "id": "315aa7ff",
      "metadata": {
        "id": "315aa7ff"
      },
      "source": [
        "# 결과물 : 추가/제거 피처 목록, 인코딩 전략, 이상치 처리 전략"
      ]
    },
    {
      "cell_type": "markdown",
      "id": "452aadaf",
      "metadata": {
        "id": "452aadaf"
      },
      "source": [
        "# 준비하기"
      ]
    },
    {
      "cell_type": "markdown",
      "id": "89eb179a",
      "metadata": {
        "id": "89eb179a"
      },
      "source": [
        "### 데이터 불러오기"
      ]
    },
    {
      "cell_type": "code",
      "execution_count": null,
      "id": "d1267ef5",
      "metadata": {
        "id": "d1267ef5"
      },
      "outputs": [],
      "source": [
        ""
      ]
    },
    {
      "cell_type": "markdown",
      "id": "bee6c455",
      "metadata": {
        "id": "bee6c455"
      },
      "source": [
        "### (필요시) 기본적인 피처 엔지니어링"
      ]
    },
    {
      "cell_type": "code",
      "execution_count": null,
      "id": "81d159e6",
      "metadata": {
        "id": "81d159e6"
      },
      "outputs": [],
      "source": [
        ""
      ]
    },
    {
      "cell_type": "markdown",
      "id": "f95bc5dd",
      "metadata": {
        "id": "f95bc5dd"
      },
      "source": [
        "### 평가지표 계산 함수 준비"
      ]
    },
    {
      "cell_type": "markdown",
      "id": "54fcd284",
      "metadata": {
        "id": "54fcd284"
      },
      "source": [
        "# 결과물 : 데이터, 평가지표 계산 함수"
      ]
    },
    {
      "cell_type": "markdown",
      "id": "0a5a8460",
      "metadata": {
        "id": "0a5a8460"
      },
      "source": [
        "# 모델 훈련"
      ]
    },
    {
      "cell_type": "code",
      "execution_count": null,
      "id": "3eb6c829",
      "metadata": {
        "id": "3eb6c829"
      },
      "outputs": [],
      "source": [
        ""
      ]
    },
    {
      "cell_type": "markdown",
      "id": "8e71d435",
      "metadata": {
        "id": "8e71d435"
      },
      "source": [
        "### 모델 생성"
      ]
    },
    {
      "cell_type": "code",
      "execution_count": null,
      "id": "dc746840",
      "metadata": {
        "id": "dc746840"
      },
      "outputs": [],
      "source": [
        ""
      ]
    },
    {
      "cell_type": "markdown",
      "id": "1829c5c8",
      "metadata": {
        "id": "1829c5c8"
      },
      "source": [
        "### 훈련"
      ]
    },
    {
      "cell_type": "code",
      "execution_count": null,
      "id": "b3be8d77",
      "metadata": {
        "id": "b3be8d77"
      },
      "outputs": [],
      "source": [
        ""
      ]
    },
    {
      "cell_type": "markdown",
      "id": "b91574b3",
      "metadata": {
        "id": "b91574b3"
      },
      "source": [
        "# 결과 : 훈련된 베이스라인 모델"
      ]
    },
    {
      "cell_type": "markdown",
      "id": "6567fdcf",
      "metadata": {
        "id": "6567fdcf"
      },
      "source": [
        "# 성능검증"
      ]
    },
    {
      "cell_type": "code",
      "execution_count": null,
      "id": "47b9fce5",
      "metadata": {
        "id": "47b9fce5"
      },
      "outputs": [],
      "source": [
        ""
      ]
    },
    {
      "cell_type": "markdown",
      "id": "2aa56cff",
      "metadata": {
        "id": "2aa56cff"
      },
      "source": [
        "### 예측(검증 데이터 사용)"
      ]
    },
    {
      "cell_type": "code",
      "execution_count": null,
      "id": "fa653057",
      "metadata": {
        "id": "fa653057"
      },
      "outputs": [],
      "source": [
        ""
      ]
    },
    {
      "cell_type": "markdown",
      "id": "aac17622",
      "metadata": {
        "id": "aac17622"
      },
      "source": [
        "### 평가"
      ]
    },
    {
      "cell_type": "code",
      "execution_count": null,
      "id": "36d28ef1",
      "metadata": {
        "id": "36d28ef1"
      },
      "outputs": [],
      "source": [
        ""
      ]
    },
    {
      "cell_type": "markdown",
      "id": "264f53a8",
      "metadata": {
        "id": "264f53a8"
      },
      "source": [
        "# 결과물 : 예측 결과, 검증 평가 점수"
      ]
    },
    {
      "cell_type": "markdown",
      "id": "9006cd6e",
      "metadata": {
        "id": "9006cd6e"
      },
      "source": [
        "# 예측 및 결과 제출"
      ]
    },
    {
      "cell_type": "markdown",
      "id": "3d45e98b",
      "metadata": {
        "id": "3d45e98b"
      },
      "source": [
        "### 최종 예측(테스트 데이터 사용)"
      ]
    },
    {
      "cell_type": "code",
      "execution_count": null,
      "id": "bf2024ba",
      "metadata": {
        "id": "bf2024ba"
      },
      "outputs": [],
      "source": [
        ""
      ]
    },
    {
      "cell_type": "markdown",
      "id": "96094ad3",
      "metadata": {
        "id": "96094ad3"
      },
      "source": [
        "### 제출 파일 생성"
      ]
    },
    {
      "cell_type": "code",
      "execution_count": null,
      "id": "346174d6",
      "metadata": {
        "id": "346174d6"
      },
      "outputs": [],
      "source": [
        ""
      ]
    },
    {
      "cell_type": "markdown",
      "id": "97538936",
      "metadata": {
        "id": "97538936"
      },
      "source": [
        "### 제출"
      ]
    },
    {
      "cell_type": "markdown",
      "id": "6f02c36c",
      "metadata": {
        "id": "6f02c36c"
      },
      "source": [
        "# 결과물 : 제출 파일, 기준 private/pubilc 점수"
      ]
    },
    {
      "cell_type": "markdown",
      "id": "d117ea26",
      "metadata": {
        "id": "d117ea26"
      },
      "source": [
        "# 피처 엔지니어링"
      ]
    },
    {
      "cell_type": "markdown",
      "id": "200cbe49",
      "metadata": {
        "id": "200cbe49"
      },
      "source": [
        "### 이상치 제거"
      ]
    },
    {
      "cell_type": "code",
      "execution_count": null,
      "id": "7acc2520",
      "metadata": {
        "id": "7acc2520"
      },
      "outputs": [],
      "source": [
        "a_test = pd.read_csv('./FIFA_test.csv')\n",
        "a_train = pd.read_csv('./FIFA_train.csv')\n",
        "a_submission = pd.read_csv('./submission.csv')"
      ]
    },
    {
      "cell_type": "code",
      "execution_count": null,
      "id": "8d51672a",
      "metadata": {
        "id": "8d51672a"
      },
      "outputs": [],
      "source": [
        ""
      ]
    },
    {
      "cell_type": "code",
      "execution_count": null,
      "id": "01366d8d",
      "metadata": {
        "id": "01366d8d",
        "outputId": "10dfb7af-8931-4e95-b1af-8dbe8dc832a3"
      },
      "outputs": [
        {
          "data": {
            "text/html": [
              "<div>\n",
              "<style scoped>\n",
              "    .dataframe tbody tr th:only-of-type {\n",
              "        vertical-align: middle;\n",
              "    }\n",
              "\n",
              "    .dataframe tbody tr th {\n",
              "        vertical-align: top;\n",
              "    }\n",
              "\n",
              "    .dataframe thead th {\n",
              "        text-align: right;\n",
              "    }\n",
              "</style>\n",
              "<table border=\"1\" class=\"dataframe\">\n",
              "  <thead>\n",
              "    <tr style=\"text-align: right;\">\n",
              "      <th></th>\n",
              "      <th>id</th>\n",
              "      <th>name</th>\n",
              "      <th>age</th>\n",
              "      <th>continent</th>\n",
              "      <th>contract_until</th>\n",
              "      <th>position</th>\n",
              "      <th>prefer_foot</th>\n",
              "      <th>reputation</th>\n",
              "      <th>stat_overall</th>\n",
              "      <th>stat_potential</th>\n",
              "      <th>stat_skill_moves</th>\n",
              "      <th>value</th>\n",
              "    </tr>\n",
              "  </thead>\n",
              "  <tbody>\n",
              "    <tr>\n",
              "      <th>0</th>\n",
              "      <td>0</td>\n",
              "      <td>L. Messi</td>\n",
              "      <td>31</td>\n",
              "      <td>south america</td>\n",
              "      <td>2021</td>\n",
              "      <td>ST</td>\n",
              "      <td>left</td>\n",
              "      <td>5.0</td>\n",
              "      <td>94</td>\n",
              "      <td>94</td>\n",
              "      <td>4.0</td>\n",
              "      <td>110500000.0</td>\n",
              "    </tr>\n",
              "    <tr>\n",
              "      <th>1</th>\n",
              "      <td>3</td>\n",
              "      <td>De Gea</td>\n",
              "      <td>27</td>\n",
              "      <td>europe</td>\n",
              "      <td>2020</td>\n",
              "      <td>GK</td>\n",
              "      <td>right</td>\n",
              "      <td>4.0</td>\n",
              "      <td>91</td>\n",
              "      <td>93</td>\n",
              "      <td>1.0</td>\n",
              "      <td>72000000.0</td>\n",
              "    </tr>\n",
              "    <tr>\n",
              "      <th>2</th>\n",
              "      <td>7</td>\n",
              "      <td>L. Suárez</td>\n",
              "      <td>31</td>\n",
              "      <td>south america</td>\n",
              "      <td>2021</td>\n",
              "      <td>ST</td>\n",
              "      <td>right</td>\n",
              "      <td>5.0</td>\n",
              "      <td>91</td>\n",
              "      <td>91</td>\n",
              "      <td>3.0</td>\n",
              "      <td>80000000.0</td>\n",
              "    </tr>\n",
              "    <tr>\n",
              "      <th>3</th>\n",
              "      <td>8</td>\n",
              "      <td>Sergio Ramos</td>\n",
              "      <td>32</td>\n",
              "      <td>europe</td>\n",
              "      <td>2020</td>\n",
              "      <td>DF</td>\n",
              "      <td>right</td>\n",
              "      <td>4.0</td>\n",
              "      <td>91</td>\n",
              "      <td>91</td>\n",
              "      <td>3.0</td>\n",
              "      <td>51000000.0</td>\n",
              "    </tr>\n",
              "    <tr>\n",
              "      <th>4</th>\n",
              "      <td>9</td>\n",
              "      <td>J. Oblak</td>\n",
              "      <td>25</td>\n",
              "      <td>europe</td>\n",
              "      <td>2021</td>\n",
              "      <td>GK</td>\n",
              "      <td>right</td>\n",
              "      <td>3.0</td>\n",
              "      <td>90</td>\n",
              "      <td>93</td>\n",
              "      <td>1.0</td>\n",
              "      <td>68000000.0</td>\n",
              "    </tr>\n",
              "    <tr>\n",
              "      <th>...</th>\n",
              "      <td>...</td>\n",
              "      <td>...</td>\n",
              "      <td>...</td>\n",
              "      <td>...</td>\n",
              "      <td>...</td>\n",
              "      <td>...</td>\n",
              "      <td>...</td>\n",
              "      <td>...</td>\n",
              "      <td>...</td>\n",
              "      <td>...</td>\n",
              "      <td>...</td>\n",
              "      <td>...</td>\n",
              "    </tr>\n",
              "    <tr>\n",
              "      <th>3823</th>\n",
              "      <td>16924</td>\n",
              "      <td>R. Takae</td>\n",
              "      <td>20</td>\n",
              "      <td>asia</td>\n",
              "      <td>2021</td>\n",
              "      <td>MF</td>\n",
              "      <td>right</td>\n",
              "      <td>1.0</td>\n",
              "      <td>48</td>\n",
              "      <td>63</td>\n",
              "      <td>2.0</td>\n",
              "      <td>NaN</td>\n",
              "    </tr>\n",
              "    <tr>\n",
              "      <th>3824</th>\n",
              "      <td>16929</td>\n",
              "      <td>L. Wahlstedt</td>\n",
              "      <td>18</td>\n",
              "      <td>europe</td>\n",
              "      <td>2018</td>\n",
              "      <td>GK</td>\n",
              "      <td>right</td>\n",
              "      <td>1.0</td>\n",
              "      <td>48</td>\n",
              "      <td>65</td>\n",
              "      <td>1.0</td>\n",
              "      <td>NaN</td>\n",
              "    </tr>\n",
              "    <tr>\n",
              "      <th>3825</th>\n",
              "      <td>16932</td>\n",
              "      <td>Y. Góez</td>\n",
              "      <td>18</td>\n",
              "      <td>south america</td>\n",
              "      <td>2021</td>\n",
              "      <td>MF</td>\n",
              "      <td>right</td>\n",
              "      <td>1.0</td>\n",
              "      <td>48</td>\n",
              "      <td>65</td>\n",
              "      <td>2.0</td>\n",
              "      <td>NaN</td>\n",
              "    </tr>\n",
              "    <tr>\n",
              "      <th>3826</th>\n",
              "      <td>16937</td>\n",
              "      <td>A. Kaltner</td>\n",
              "      <td>18</td>\n",
              "      <td>europe</td>\n",
              "      <td>2020</td>\n",
              "      <td>ST</td>\n",
              "      <td>right</td>\n",
              "      <td>1.0</td>\n",
              "      <td>47</td>\n",
              "      <td>61</td>\n",
              "      <td>2.0</td>\n",
              "      <td>NaN</td>\n",
              "    </tr>\n",
              "    <tr>\n",
              "      <th>3827</th>\n",
              "      <td>16943</td>\n",
              "      <td>K. Fujikawa</td>\n",
              "      <td>19</td>\n",
              "      <td>asia</td>\n",
              "      <td>2021</td>\n",
              "      <td>MF</td>\n",
              "      <td>right</td>\n",
              "      <td>1.0</td>\n",
              "      <td>47</td>\n",
              "      <td>61</td>\n",
              "      <td>2.0</td>\n",
              "      <td>NaN</td>\n",
              "    </tr>\n",
              "  </tbody>\n",
              "</table>\n",
              "<p>12760 rows × 12 columns</p>\n",
              "</div>"
            ],
            "text/plain": [
              "         id          name  age      continent contract_until position  \\\n",
              "0         0      L. Messi   31  south america           2021       ST   \n",
              "1         3        De Gea   27         europe           2020       GK   \n",
              "2         7     L. Suárez   31  south america           2021       ST   \n",
              "3         8  Sergio Ramos   32         europe           2020       DF   \n",
              "4         9      J. Oblak   25         europe           2021       GK   \n",
              "...     ...           ...  ...            ...            ...      ...   \n",
              "3823  16924      R. Takae   20           asia           2021       MF   \n",
              "3824  16929  L. Wahlstedt   18         europe           2018       GK   \n",
              "3825  16932       Y. Góez   18  south america           2021       MF   \n",
              "3826  16937    A. Kaltner   18         europe           2020       ST   \n",
              "3827  16943   K. Fujikawa   19           asia           2021       MF   \n",
              "\n",
              "     prefer_foot  reputation  stat_overall  stat_potential  stat_skill_moves  \\\n",
              "0           left         5.0            94              94               4.0   \n",
              "1          right         4.0            91              93               1.0   \n",
              "2          right         5.0            91              91               3.0   \n",
              "3          right         4.0            91              91               3.0   \n",
              "4          right         3.0            90              93               1.0   \n",
              "...          ...         ...           ...             ...               ...   \n",
              "3823       right         1.0            48              63               2.0   \n",
              "3824       right         1.0            48              65               1.0   \n",
              "3825       right         1.0            48              65               2.0   \n",
              "3826       right         1.0            47              61               2.0   \n",
              "3827       right         1.0            47              61               2.0   \n",
              "\n",
              "            value  \n",
              "0     110500000.0  \n",
              "1      72000000.0  \n",
              "2      80000000.0  \n",
              "3      51000000.0  \n",
              "4      68000000.0  \n",
              "...           ...  \n",
              "3823          NaN  \n",
              "3824          NaN  \n",
              "3825          NaN  \n",
              "3826          NaN  \n",
              "3827          NaN  \n",
              "\n",
              "[12760 rows x 12 columns]"
            ]
          },
          "execution_count": 138,
          "metadata": {},
          "output_type": "execute_result"
        }
      ],
      "source": [
        "all_data_temp = pd.concat([a_train, a_test])\n",
        "all_data_temp"
      ]
    },
    {
      "cell_type": "code",
      "execution_count": null,
      "id": "e068208e",
      "metadata": {
        "id": "e068208e",
        "outputId": "3c00d42f-2cb1-4b0f-e74b-105812936d91"
      },
      "outputs": [
        {
          "data": {
            "text/html": [
              "<div>\n",
              "<style scoped>\n",
              "    .dataframe tbody tr th:only-of-type {\n",
              "        vertical-align: middle;\n",
              "    }\n",
              "\n",
              "    .dataframe tbody tr th {\n",
              "        vertical-align: top;\n",
              "    }\n",
              "\n",
              "    .dataframe thead th {\n",
              "        text-align: right;\n",
              "    }\n",
              "</style>\n",
              "<table border=\"1\" class=\"dataframe\">\n",
              "  <thead>\n",
              "    <tr style=\"text-align: right;\">\n",
              "      <th></th>\n",
              "      <th>id</th>\n",
              "      <th>name</th>\n",
              "      <th>age</th>\n",
              "      <th>continent</th>\n",
              "      <th>contract_until</th>\n",
              "      <th>position</th>\n",
              "      <th>prefer_foot</th>\n",
              "      <th>reputation</th>\n",
              "      <th>stat_overall</th>\n",
              "      <th>stat_potential</th>\n",
              "      <th>stat_skill_moves</th>\n",
              "      <th>value</th>\n",
              "    </tr>\n",
              "  </thead>\n",
              "  <tbody>\n",
              "    <tr>\n",
              "      <th>0</th>\n",
              "      <td>0</td>\n",
              "      <td>L. Messi</td>\n",
              "      <td>31</td>\n",
              "      <td>south america</td>\n",
              "      <td>2021</td>\n",
              "      <td>ST</td>\n",
              "      <td>left</td>\n",
              "      <td>5.0</td>\n",
              "      <td>94</td>\n",
              "      <td>94</td>\n",
              "      <td>4.0</td>\n",
              "      <td>110500000.0</td>\n",
              "    </tr>\n",
              "    <tr>\n",
              "      <th>1</th>\n",
              "      <td>3</td>\n",
              "      <td>De Gea</td>\n",
              "      <td>27</td>\n",
              "      <td>europe</td>\n",
              "      <td>2020</td>\n",
              "      <td>GK</td>\n",
              "      <td>right</td>\n",
              "      <td>4.0</td>\n",
              "      <td>91</td>\n",
              "      <td>93</td>\n",
              "      <td>1.0</td>\n",
              "      <td>72000000.0</td>\n",
              "    </tr>\n",
              "    <tr>\n",
              "      <th>2</th>\n",
              "      <td>7</td>\n",
              "      <td>L. Suárez</td>\n",
              "      <td>31</td>\n",
              "      <td>south america</td>\n",
              "      <td>2021</td>\n",
              "      <td>ST</td>\n",
              "      <td>right</td>\n",
              "      <td>5.0</td>\n",
              "      <td>91</td>\n",
              "      <td>91</td>\n",
              "      <td>3.0</td>\n",
              "      <td>80000000.0</td>\n",
              "    </tr>\n",
              "    <tr>\n",
              "      <th>3</th>\n",
              "      <td>8</td>\n",
              "      <td>Sergio Ramos</td>\n",
              "      <td>32</td>\n",
              "      <td>europe</td>\n",
              "      <td>2020</td>\n",
              "      <td>DF</td>\n",
              "      <td>right</td>\n",
              "      <td>4.0</td>\n",
              "      <td>91</td>\n",
              "      <td>91</td>\n",
              "      <td>3.0</td>\n",
              "      <td>51000000.0</td>\n",
              "    </tr>\n",
              "    <tr>\n",
              "      <th>4</th>\n",
              "      <td>9</td>\n",
              "      <td>J. Oblak</td>\n",
              "      <td>25</td>\n",
              "      <td>europe</td>\n",
              "      <td>2021</td>\n",
              "      <td>GK</td>\n",
              "      <td>right</td>\n",
              "      <td>3.0</td>\n",
              "      <td>90</td>\n",
              "      <td>93</td>\n",
              "      <td>1.0</td>\n",
              "      <td>68000000.0</td>\n",
              "    </tr>\n",
              "    <tr>\n",
              "      <th>...</th>\n",
              "      <td>...</td>\n",
              "      <td>...</td>\n",
              "      <td>...</td>\n",
              "      <td>...</td>\n",
              "      <td>...</td>\n",
              "      <td>...</td>\n",
              "      <td>...</td>\n",
              "      <td>...</td>\n",
              "      <td>...</td>\n",
              "      <td>...</td>\n",
              "      <td>...</td>\n",
              "      <td>...</td>\n",
              "    </tr>\n",
              "    <tr>\n",
              "      <th>12755</th>\n",
              "      <td>16924</td>\n",
              "      <td>R. Takae</td>\n",
              "      <td>20</td>\n",
              "      <td>asia</td>\n",
              "      <td>2021</td>\n",
              "      <td>MF</td>\n",
              "      <td>right</td>\n",
              "      <td>1.0</td>\n",
              "      <td>48</td>\n",
              "      <td>63</td>\n",
              "      <td>2.0</td>\n",
              "      <td>NaN</td>\n",
              "    </tr>\n",
              "    <tr>\n",
              "      <th>12756</th>\n",
              "      <td>16929</td>\n",
              "      <td>L. Wahlstedt</td>\n",
              "      <td>18</td>\n",
              "      <td>europe</td>\n",
              "      <td>2018</td>\n",
              "      <td>GK</td>\n",
              "      <td>right</td>\n",
              "      <td>1.0</td>\n",
              "      <td>48</td>\n",
              "      <td>65</td>\n",
              "      <td>1.0</td>\n",
              "      <td>NaN</td>\n",
              "    </tr>\n",
              "    <tr>\n",
              "      <th>12757</th>\n",
              "      <td>16932</td>\n",
              "      <td>Y. Góez</td>\n",
              "      <td>18</td>\n",
              "      <td>south america</td>\n",
              "      <td>2021</td>\n",
              "      <td>MF</td>\n",
              "      <td>right</td>\n",
              "      <td>1.0</td>\n",
              "      <td>48</td>\n",
              "      <td>65</td>\n",
              "      <td>2.0</td>\n",
              "      <td>NaN</td>\n",
              "    </tr>\n",
              "    <tr>\n",
              "      <th>12758</th>\n",
              "      <td>16937</td>\n",
              "      <td>A. Kaltner</td>\n",
              "      <td>18</td>\n",
              "      <td>europe</td>\n",
              "      <td>2020</td>\n",
              "      <td>ST</td>\n",
              "      <td>right</td>\n",
              "      <td>1.0</td>\n",
              "      <td>47</td>\n",
              "      <td>61</td>\n",
              "      <td>2.0</td>\n",
              "      <td>NaN</td>\n",
              "    </tr>\n",
              "    <tr>\n",
              "      <th>12759</th>\n",
              "      <td>16943</td>\n",
              "      <td>K. Fujikawa</td>\n",
              "      <td>19</td>\n",
              "      <td>asia</td>\n",
              "      <td>2021</td>\n",
              "      <td>MF</td>\n",
              "      <td>right</td>\n",
              "      <td>1.0</td>\n",
              "      <td>47</td>\n",
              "      <td>61</td>\n",
              "      <td>2.0</td>\n",
              "      <td>NaN</td>\n",
              "    </tr>\n",
              "  </tbody>\n",
              "</table>\n",
              "<p>12760 rows × 12 columns</p>\n",
              "</div>"
            ],
            "text/plain": [
              "          id          name  age      continent contract_until position  \\\n",
              "0          0      L. Messi   31  south america           2021       ST   \n",
              "1          3        De Gea   27         europe           2020       GK   \n",
              "2          7     L. Suárez   31  south america           2021       ST   \n",
              "3          8  Sergio Ramos   32         europe           2020       DF   \n",
              "4          9      J. Oblak   25         europe           2021       GK   \n",
              "...      ...           ...  ...            ...            ...      ...   \n",
              "12755  16924      R. Takae   20           asia           2021       MF   \n",
              "12756  16929  L. Wahlstedt   18         europe           2018       GK   \n",
              "12757  16932       Y. Góez   18  south america           2021       MF   \n",
              "12758  16937    A. Kaltner   18         europe           2020       ST   \n",
              "12759  16943   K. Fujikawa   19           asia           2021       MF   \n",
              "\n",
              "      prefer_foot  reputation  stat_overall  stat_potential  stat_skill_moves  \\\n",
              "0            left         5.0            94              94               4.0   \n",
              "1           right         4.0            91              93               1.0   \n",
              "2           right         5.0            91              91               3.0   \n",
              "3           right         4.0            91              91               3.0   \n",
              "4           right         3.0            90              93               1.0   \n",
              "...           ...         ...           ...             ...               ...   \n",
              "12755       right         1.0            48              63               2.0   \n",
              "12756       right         1.0            48              65               1.0   \n",
              "12757       right         1.0            48              65               2.0   \n",
              "12758       right         1.0            47              61               2.0   \n",
              "12759       right         1.0            47              61               2.0   \n",
              "\n",
              "             value  \n",
              "0      110500000.0  \n",
              "1       72000000.0  \n",
              "2       80000000.0  \n",
              "3       51000000.0  \n",
              "4       68000000.0  \n",
              "...            ...  \n",
              "12755          NaN  \n",
              "12756          NaN  \n",
              "12757          NaN  \n",
              "12758          NaN  \n",
              "12759          NaN  \n",
              "\n",
              "[12760 rows x 12 columns]"
            ]
          },
          "execution_count": 139,
          "metadata": {},
          "output_type": "execute_result"
        }
      ],
      "source": [
        "all_data1 = pd.concat([a_train, a_test], ignore_index=True)\n",
        "all_data1"
      ]
    },
    {
      "cell_type": "code",
      "execution_count": null,
      "id": "07a1d713",
      "metadata": {
        "id": "07a1d713"
      },
      "outputs": [],
      "source": [
        "drop_features = ['name','contract_until']\n",
        "all_data3=all_data1.drop(drop_features, axis=1)"
      ]
    },
    {
      "cell_type": "code",
      "execution_count": null,
      "id": "22c08045",
      "metadata": {
        "id": "22c08045"
      },
      "outputs": [],
      "source": [
        "# all_data3['continent'] = all_data3['continent'].map({'south america':1,\n",
        "#                                                     'europe':2,\n",
        "#                                                     'africa':3,\n",
        "#                                                     'asia':4,\n",
        "#                                                     'oceania':5})\n",
        "# all_data3['position'] = all_data3['position'].map({'ST':1,\n",
        "#                                                   'GK':2,\n",
        "#                                                   'DF':3,\n",
        "#                                                   'MF':4})\n",
        "# all_data3['prefer_foot'] = all_data3['prefer_foot'].map({'right':1,\n",
        "#                                                         'left':2})\n",
        "# all_data3['contract_until'] = all_data3['contract_until'].map({'2021':2021,\n",
        "#                                                               '2020':2020,\n",
        "#                                                               '2019':2019,\n",
        "#                                                               '2023':2023,\n",
        "#                                                               '2022':2022,\n",
        "#                                                               '2024':2024,\n",
        "#                                                               '2025':2025,\n",
        "#                                                               '2026':2026,\n",
        "#                                                               '2018':2018,\n",
        "#                                                               'Dec 31, 2018 contract_until':2018,\n",
        "#                                                               'Jun 30, 2019':2019,\n",
        "#                                                               'Jun 30, 2020':2020,\n",
        "#                                                               'May 31, 2020':2020,\n",
        "#                                                               'May 31, 2019':2019,\n",
        "#                                                               'Jan 31, 2019':2018,\n",
        "#                                                               'Jan 1, 2019':2018,\n",
        "#                                                               'Jan 12, 2019':2018})"
      ]
    },
    {
      "cell_type": "code",
      "execution_count": null,
      "id": "f163ae40",
      "metadata": {
        "id": "f163ae40"
      },
      "outputs": [],
      "source": [
        "all_data3['continent'] = all_data3['continent'].map({'south america':1,\n",
        "                                                    'europe':2,\n",
        "                                                    'africa':3,\n",
        "                                                    'asia':4,\n",
        "                                                    'oceania':5})\n",
        "all_data3['position'] = all_data3['position'].map({'ST':1,\n",
        "                                                  'GK':2,\n",
        "                                                  'DF':3,\n",
        "                                                  'MF':4})\n",
        "all_data3['prefer_foot'] = all_data3['prefer_foot'].map({'right':1,\n",
        "                                                        'left':2})"
      ]
    },
    {
      "cell_type": "code",
      "execution_count": null,
      "id": "f9e9b5af",
      "metadata": {
        "scrolled": true,
        "id": "f9e9b5af",
        "outputId": "f44e85cd-283c-421a-80dd-5b7e206b402d"
      },
      "outputs": [
        {
          "data": {
            "text/html": [
              "<div>\n",
              "<style scoped>\n",
              "    .dataframe tbody tr th:only-of-type {\n",
              "        vertical-align: middle;\n",
              "    }\n",
              "\n",
              "    .dataframe tbody tr th {\n",
              "        vertical-align: top;\n",
              "    }\n",
              "\n",
              "    .dataframe thead th {\n",
              "        text-align: right;\n",
              "    }\n",
              "</style>\n",
              "<table border=\"1\" class=\"dataframe\">\n",
              "  <thead>\n",
              "    <tr style=\"text-align: right;\">\n",
              "      <th></th>\n",
              "      <th>id</th>\n",
              "      <th>age</th>\n",
              "      <th>continent</th>\n",
              "      <th>position</th>\n",
              "      <th>prefer_foot</th>\n",
              "      <th>reputation</th>\n",
              "      <th>stat_overall</th>\n",
              "      <th>stat_potential</th>\n",
              "      <th>stat_skill_moves</th>\n",
              "      <th>value</th>\n",
              "    </tr>\n",
              "  </thead>\n",
              "  <tbody>\n",
              "    <tr>\n",
              "      <th>0</th>\n",
              "      <td>0</td>\n",
              "      <td>31</td>\n",
              "      <td>1</td>\n",
              "      <td>1</td>\n",
              "      <td>2</td>\n",
              "      <td>5.0</td>\n",
              "      <td>94</td>\n",
              "      <td>94</td>\n",
              "      <td>4.0</td>\n",
              "      <td>110500000.0</td>\n",
              "    </tr>\n",
              "    <tr>\n",
              "      <th>1</th>\n",
              "      <td>3</td>\n",
              "      <td>27</td>\n",
              "      <td>2</td>\n",
              "      <td>2</td>\n",
              "      <td>1</td>\n",
              "      <td>4.0</td>\n",
              "      <td>91</td>\n",
              "      <td>93</td>\n",
              "      <td>1.0</td>\n",
              "      <td>72000000.0</td>\n",
              "    </tr>\n",
              "    <tr>\n",
              "      <th>2</th>\n",
              "      <td>7</td>\n",
              "      <td>31</td>\n",
              "      <td>1</td>\n",
              "      <td>1</td>\n",
              "      <td>1</td>\n",
              "      <td>5.0</td>\n",
              "      <td>91</td>\n",
              "      <td>91</td>\n",
              "      <td>3.0</td>\n",
              "      <td>80000000.0</td>\n",
              "    </tr>\n",
              "    <tr>\n",
              "      <th>3</th>\n",
              "      <td>8</td>\n",
              "      <td>32</td>\n",
              "      <td>2</td>\n",
              "      <td>3</td>\n",
              "      <td>1</td>\n",
              "      <td>4.0</td>\n",
              "      <td>91</td>\n",
              "      <td>91</td>\n",
              "      <td>3.0</td>\n",
              "      <td>51000000.0</td>\n",
              "    </tr>\n",
              "    <tr>\n",
              "      <th>4</th>\n",
              "      <td>9</td>\n",
              "      <td>25</td>\n",
              "      <td>2</td>\n",
              "      <td>2</td>\n",
              "      <td>1</td>\n",
              "      <td>3.0</td>\n",
              "      <td>90</td>\n",
              "      <td>93</td>\n",
              "      <td>1.0</td>\n",
              "      <td>68000000.0</td>\n",
              "    </tr>\n",
              "  </tbody>\n",
              "</table>\n",
              "</div>"
            ],
            "text/plain": [
              "   id  age  continent  position  prefer_foot  reputation  stat_overall  \\\n",
              "0   0   31          1         1            2         5.0            94   \n",
              "1   3   27          2         2            1         4.0            91   \n",
              "2   7   31          1         1            1         5.0            91   \n",
              "3   8   32          2         3            1         4.0            91   \n",
              "4   9   25          2         2            1         3.0            90   \n",
              "\n",
              "   stat_potential  stat_skill_moves        value  \n",
              "0              94               4.0  110500000.0  \n",
              "1              93               1.0   72000000.0  \n",
              "2              91               3.0   80000000.0  \n",
              "3              91               3.0   51000000.0  \n",
              "4              93               1.0   68000000.0  "
            ]
          },
          "execution_count": 207,
          "metadata": {},
          "output_type": "execute_result"
        }
      ],
      "source": [
        "all_data3.head()"
      ]
    },
    {
      "cell_type": "code",
      "execution_count": null,
      "id": "6a940b19",
      "metadata": {
        "id": "6a940b19"
      },
      "outputs": [],
      "source": [
        "#훈련데이터와 테스트 데이터 나누기\n",
        "x_train = all_data3[~pd.isnull(all_data3['value'])]\n",
        "x_test = all_data3[pd.isnull(all_data3['value'])]"
      ]
    },
    {
      "cell_type": "code",
      "execution_count": null,
      "id": "0f5262c4",
      "metadata": {
        "id": "0f5262c4",
        "outputId": "544d54a9-2f2b-4a5c-883d-45f0dabb94bc"
      },
      "outputs": [
        {
          "data": {
            "text/html": [
              "<div>\n",
              "<style scoped>\n",
              "    .dataframe tbody tr th:only-of-type {\n",
              "        vertical-align: middle;\n",
              "    }\n",
              "\n",
              "    .dataframe tbody tr th {\n",
              "        vertical-align: top;\n",
              "    }\n",
              "\n",
              "    .dataframe thead th {\n",
              "        text-align: right;\n",
              "    }\n",
              "</style>\n",
              "<table border=\"1\" class=\"dataframe\">\n",
              "  <thead>\n",
              "    <tr style=\"text-align: right;\">\n",
              "      <th></th>\n",
              "      <th>id</th>\n",
              "      <th>age</th>\n",
              "      <th>continent</th>\n",
              "      <th>position</th>\n",
              "      <th>prefer_foot</th>\n",
              "      <th>reputation</th>\n",
              "      <th>stat_overall</th>\n",
              "      <th>stat_potential</th>\n",
              "      <th>stat_skill_moves</th>\n",
              "      <th>value</th>\n",
              "    </tr>\n",
              "  </thead>\n",
              "  <tbody>\n",
              "    <tr>\n",
              "      <th>0</th>\n",
              "      <td>0</td>\n",
              "      <td>31</td>\n",
              "      <td>1</td>\n",
              "      <td>1</td>\n",
              "      <td>2</td>\n",
              "      <td>5.0</td>\n",
              "      <td>94</td>\n",
              "      <td>94</td>\n",
              "      <td>4.0</td>\n",
              "      <td>110500000.0</td>\n",
              "    </tr>\n",
              "    <tr>\n",
              "      <th>1</th>\n",
              "      <td>3</td>\n",
              "      <td>27</td>\n",
              "      <td>2</td>\n",
              "      <td>2</td>\n",
              "      <td>1</td>\n",
              "      <td>4.0</td>\n",
              "      <td>91</td>\n",
              "      <td>93</td>\n",
              "      <td>1.0</td>\n",
              "      <td>72000000.0</td>\n",
              "    </tr>\n",
              "    <tr>\n",
              "      <th>2</th>\n",
              "      <td>7</td>\n",
              "      <td>31</td>\n",
              "      <td>1</td>\n",
              "      <td>1</td>\n",
              "      <td>1</td>\n",
              "      <td>5.0</td>\n",
              "      <td>91</td>\n",
              "      <td>91</td>\n",
              "      <td>3.0</td>\n",
              "      <td>80000000.0</td>\n",
              "    </tr>\n",
              "    <tr>\n",
              "      <th>3</th>\n",
              "      <td>8</td>\n",
              "      <td>32</td>\n",
              "      <td>2</td>\n",
              "      <td>3</td>\n",
              "      <td>1</td>\n",
              "      <td>4.0</td>\n",
              "      <td>91</td>\n",
              "      <td>91</td>\n",
              "      <td>3.0</td>\n",
              "      <td>51000000.0</td>\n",
              "    </tr>\n",
              "    <tr>\n",
              "      <th>4</th>\n",
              "      <td>9</td>\n",
              "      <td>25</td>\n",
              "      <td>2</td>\n",
              "      <td>2</td>\n",
              "      <td>1</td>\n",
              "      <td>3.0</td>\n",
              "      <td>90</td>\n",
              "      <td>93</td>\n",
              "      <td>1.0</td>\n",
              "      <td>68000000.0</td>\n",
              "    </tr>\n",
              "  </tbody>\n",
              "</table>\n",
              "</div>"
            ],
            "text/plain": [
              "   id  age  continent  position  prefer_foot  reputation  stat_overall  \\\n",
              "0   0   31          1         1            2         5.0            94   \n",
              "1   3   27          2         2            1         4.0            91   \n",
              "2   7   31          1         1            1         5.0            91   \n",
              "3   8   32          2         3            1         4.0            91   \n",
              "4   9   25          2         2            1         3.0            90   \n",
              "\n",
              "   stat_potential  stat_skill_moves        value  \n",
              "0              94               4.0  110500000.0  \n",
              "1              93               1.0   72000000.0  \n",
              "2              91               3.0   80000000.0  \n",
              "3              91               3.0   51000000.0  \n",
              "4              93               1.0   68000000.0  "
            ]
          },
          "execution_count": 209,
          "metadata": {},
          "output_type": "execute_result"
        }
      ],
      "source": [
        "x_train.head()"
      ]
    },
    {
      "cell_type": "code",
      "execution_count": null,
      "id": "3909a2bb",
      "metadata": {
        "id": "3909a2bb",
        "outputId": "d37e1380-ec50-4eae-bbe6-cbcd90fcca31"
      },
      "outputs": [
        {
          "data": {
            "text/html": [
              "<div>\n",
              "<style scoped>\n",
              "    .dataframe tbody tr th:only-of-type {\n",
              "        vertical-align: middle;\n",
              "    }\n",
              "\n",
              "    .dataframe tbody tr th {\n",
              "        vertical-align: top;\n",
              "    }\n",
              "\n",
              "    .dataframe thead th {\n",
              "        text-align: right;\n",
              "    }\n",
              "</style>\n",
              "<table border=\"1\" class=\"dataframe\">\n",
              "  <thead>\n",
              "    <tr style=\"text-align: right;\">\n",
              "      <th></th>\n",
              "      <th>id</th>\n",
              "      <th>age</th>\n",
              "      <th>continent</th>\n",
              "      <th>position</th>\n",
              "      <th>prefer_foot</th>\n",
              "      <th>reputation</th>\n",
              "      <th>stat_overall</th>\n",
              "      <th>stat_potential</th>\n",
              "      <th>stat_skill_moves</th>\n",
              "      <th>value</th>\n",
              "    </tr>\n",
              "  </thead>\n",
              "  <tbody>\n",
              "    <tr>\n",
              "      <th>8932</th>\n",
              "      <td>1</td>\n",
              "      <td>33</td>\n",
              "      <td>2</td>\n",
              "      <td>1</td>\n",
              "      <td>1</td>\n",
              "      <td>5.0</td>\n",
              "      <td>94</td>\n",
              "      <td>94</td>\n",
              "      <td>5.0</td>\n",
              "      <td>NaN</td>\n",
              "    </tr>\n",
              "    <tr>\n",
              "      <th>8933</th>\n",
              "      <td>2</td>\n",
              "      <td>26</td>\n",
              "      <td>1</td>\n",
              "      <td>1</td>\n",
              "      <td>1</td>\n",
              "      <td>5.0</td>\n",
              "      <td>92</td>\n",
              "      <td>93</td>\n",
              "      <td>5.0</td>\n",
              "      <td>NaN</td>\n",
              "    </tr>\n",
              "    <tr>\n",
              "      <th>8934</th>\n",
              "      <td>4</td>\n",
              "      <td>27</td>\n",
              "      <td>2</td>\n",
              "      <td>4</td>\n",
              "      <td>1</td>\n",
              "      <td>4.0</td>\n",
              "      <td>91</td>\n",
              "      <td>92</td>\n",
              "      <td>4.0</td>\n",
              "      <td>NaN</td>\n",
              "    </tr>\n",
              "    <tr>\n",
              "      <th>8935</th>\n",
              "      <td>5</td>\n",
              "      <td>27</td>\n",
              "      <td>2</td>\n",
              "      <td>1</td>\n",
              "      <td>1</td>\n",
              "      <td>4.0</td>\n",
              "      <td>91</td>\n",
              "      <td>91</td>\n",
              "      <td>4.0</td>\n",
              "      <td>NaN</td>\n",
              "    </tr>\n",
              "    <tr>\n",
              "      <th>8936</th>\n",
              "      <td>6</td>\n",
              "      <td>32</td>\n",
              "      <td>2</td>\n",
              "      <td>4</td>\n",
              "      <td>1</td>\n",
              "      <td>4.0</td>\n",
              "      <td>91</td>\n",
              "      <td>91</td>\n",
              "      <td>4.0</td>\n",
              "      <td>NaN</td>\n",
              "    </tr>\n",
              "  </tbody>\n",
              "</table>\n",
              "</div>"
            ],
            "text/plain": [
              "      id  age  continent  position  prefer_foot  reputation  stat_overall  \\\n",
              "8932   1   33          2         1            1         5.0            94   \n",
              "8933   2   26          1         1            1         5.0            92   \n",
              "8934   4   27          2         4            1         4.0            91   \n",
              "8935   5   27          2         1            1         4.0            91   \n",
              "8936   6   32          2         4            1         4.0            91   \n",
              "\n",
              "      stat_potential  stat_skill_moves  value  \n",
              "8932              94               5.0    NaN  \n",
              "8933              93               5.0    NaN  \n",
              "8934              92               4.0    NaN  \n",
              "8935              91               4.0    NaN  \n",
              "8936              91               4.0    NaN  "
            ]
          },
          "execution_count": 210,
          "metadata": {},
          "output_type": "execute_result"
        }
      ],
      "source": [
        "x_test.head()"
      ]
    },
    {
      "cell_type": "code",
      "execution_count": null,
      "id": "17ce0fab",
      "metadata": {
        "id": "17ce0fab"
      },
      "outputs": [],
      "source": [
        "#타깃값 count 제거\n",
        "x_train = x_train.drop(['value'], axis=1)\n",
        "x_test = x_test.drop(['value'], axis=1)\n",
        "\n",
        "y = a_train['value']"
      ]
    },
    {
      "cell_type": "code",
      "execution_count": null,
      "id": "3e8ca814",
      "metadata": {
        "id": "3e8ca814"
      },
      "outputs": [],
      "source": [
        "import numpy as np\n",
        "\n",
        "def rmse(y_true, y_pred, convertExp=True):\n",
        "    #지수변환\n",
        "    if convertExp:\n",
        "        y_true = np.exp(y_true)\n",
        "        y_pred = np.exp(y_pred)\n",
        "    \n",
        "    #로그변환 후 결측값을 0으로 변환\n",
        "    log_true = np.nan_to_num(np.log(y_true+1))\n",
        "    log_pred = np.nan_to_num(np.log(y_pred+1))\n",
        "    \n",
        "    #RMSLE 계산\n",
        "    output = np.sqrt(np.mean((log_true - log_pred)**2))\n",
        "    return output"
      ]
    },
    {
      "cell_type": "code",
      "execution_count": null,
      "id": "07b5e9de",
      "metadata": {
        "id": "07b5e9de"
      },
      "outputs": [],
      "source": [
        "from sklearn.linear_model import LinearRegression\n",
        "\n",
        "linear_reg_model = LinearRegression()"
      ]
    },
    {
      "cell_type": "code",
      "execution_count": null,
      "id": "63fc511c",
      "metadata": {
        "id": "63fc511c",
        "outputId": "86e4e65b-b13b-481b-c668-5e589c4be0eb"
      },
      "outputs": [
        {
          "data": {
            "text/plain": [
              "LinearRegression()"
            ]
          },
          "execution_count": 214,
          "metadata": {},
          "output_type": "execute_result"
        }
      ],
      "source": [
        "log_y = np.log(y)\n",
        "linear_reg_model.fit(x_train, log_y)"
      ]
    },
    {
      "cell_type": "code",
      "execution_count": null,
      "id": "870a8c88",
      "metadata": {
        "id": "870a8c88"
      },
      "outputs": [],
      "source": [
        "preds = linear_reg_model.predict(x_train)"
      ]
    },
    {
      "cell_type": "code",
      "execution_count": null,
      "id": "72ad7b45",
      "metadata": {
        "id": "72ad7b45",
        "outputId": "e24b6471-09bc-4411-a7ea-b5454aed8d50"
      },
      "outputs": [
        {
          "name": "stdout",
          "output_type": "stream",
          "text": [
            "선형 회귀의 RMSLE 값 : 0.2468\n"
          ]
        }
      ],
      "source": [
        "print(f'선형 회귀의 RMSE 값 : {rmse(log_y, preds, True):.4f}')"
      ]
    },
    {
      "cell_type": "code",
      "execution_count": null,
      "id": "5282391a",
      "metadata": {
        "id": "5282391a"
      },
      "outputs": [],
      "source": [
        "from sklearn. linear_model import Ridge\n",
        "from sklearn.model_selection import GridSearchCV\n",
        "from sklearn import metrics\n",
        "\n",
        "ridge_model = Ridge()"
      ]
    },
    {
      "cell_type": "code",
      "execution_count": null,
      "id": "b8e22af4",
      "metadata": {
        "id": "b8e22af4"
      },
      "outputs": [],
      "source": [
        ""
      ]
    },
    {
      "cell_type": "code",
      "execution_count": null,
      "id": "0be9924b",
      "metadata": {
        "id": "0be9924b"
      },
      "outputs": [],
      "source": [
        "#하이퍼파라미터 값 목록\n",
        "ridge_params = {'max_iter':[3000], 'alpha':[0.1, 1, 2, 3, 4, 10, 30, 100, 200, 300, 400, 800, 900, 1000]}"
      ]
    },
    {
      "cell_type": "code",
      "execution_count": null,
      "id": "084e8d0f",
      "metadata": {
        "id": "084e8d0f"
      },
      "outputs": [],
      "source": [
        "#교차 검증용 평가 함수(RMSE 점수 계산)\n",
        "rmse_scorer = metrics.make_scorer(rmse, greater_is_better=False)"
      ]
    },
    {
      "cell_type": "code",
      "execution_count": null,
      "id": "4b53462f",
      "metadata": {
        "id": "4b53462f"
      },
      "outputs": [],
      "source": [
        "#그리드서치(wirh 릿지) 객체 생성\n",
        "gridsearch_ridge_model = GridSearchCV(estimator=ridge_model,  # 릿지 모델\n",
        "                                     param_grid=ridge_params, # 값 목록\n",
        "                                     scoring=rmse_scorer,     # 평가지표\n",
        "                                     cv=5)                    # 교차 검증 분할 수"
      ]
    },
    {
      "cell_type": "code",
      "execution_count": null,
      "id": "eb02a64b",
      "metadata": {
        "id": "eb02a64b",
        "outputId": "f8dbfd9e-c6b9-449f-c68c-481a56495227"
      },
      "outputs": [
        {
          "data": {
            "text/plain": [
              "GridSearchCV(cv=5, estimator=Ridge(),\n",
              "             param_grid={'alpha': [0.1, 1, 2, 3, 4, 10, 30, 100, 200, 300, 400,\n",
              "                                   800, 900, 1000],\n",
              "                         'max_iter': [3000]},\n",
              "             scoring=make_scorer(rmse, greater_is_better=False))"
            ]
          },
          "execution_count": 226,
          "metadata": {},
          "output_type": "execute_result"
        }
      ],
      "source": [
        "#그리드서치 수행\n",
        "log_y = np.log(y) # 타깃값 로그변환\n",
        "gridsearch_ridge_model.fit(x_train, log_y) # 훈련(그리드서치)"
      ]
    },
    {
      "cell_type": "code",
      "execution_count": null,
      "id": "3d0d1e90",
      "metadata": {
        "id": "3d0d1e90",
        "outputId": "4dcc40ac-4206-41a3-9458-6cda6adee929"
      },
      "outputs": [
        {
          "name": "stdout",
          "output_type": "stream",
          "text": [
            "최적 하이퍼파라미터 :  {'alpha': 400, 'max_iter': 3000}\n"
          ]
        }
      ],
      "source": [
        "print('최적 하이퍼파라미터 : ', gridsearch_ridge_model.best_params_)"
      ]
    },
    {
      "cell_type": "code",
      "execution_count": null,
      "id": "cdf4576c",
      "metadata": {
        "id": "cdf4576c"
      },
      "outputs": [],
      "source": [
        ""
      ]
    },
    {
      "cell_type": "code",
      "execution_count": null,
      "id": "70fe6265",
      "metadata": {
        "id": "70fe6265"
      },
      "outputs": [],
      "source": [
        ""
      ]
    },
    {
      "cell_type": "code",
      "execution_count": null,
      "id": "6d6d9813",
      "metadata": {
        "id": "6d6d9813"
      },
      "outputs": [],
      "source": [
        ""
      ]
    },
    {
      "cell_type": "code",
      "execution_count": null,
      "id": "83741e3b",
      "metadata": {
        "id": "83741e3b"
      },
      "outputs": [],
      "source": [
        ""
      ]
    },
    {
      "cell_type": "code",
      "execution_count": null,
      "id": "b1264638",
      "metadata": {
        "id": "b1264638"
      },
      "outputs": [],
      "source": [
        ""
      ]
    },
    {
      "cell_type": "code",
      "execution_count": null,
      "id": "0681fb76",
      "metadata": {
        "id": "0681fb76"
      },
      "outputs": [],
      "source": [
        ""
      ]
    },
    {
      "cell_type": "markdown",
      "id": "53ec061a",
      "metadata": {
        "id": "53ec061a"
      },
      "source": [
        "### 피처 스케일링"
      ]
    },
    {
      "cell_type": "code",
      "execution_count": null,
      "id": "7ddb8f47",
      "metadata": {
        "id": "7ddb8f47"
      },
      "outputs": [],
      "source": [
        ""
      ]
    },
    {
      "cell_type": "markdown",
      "id": "8f56387f",
      "metadata": {
        "id": "8f56387f"
      },
      "source": [
        "### 결측값 처리"
      ]
    },
    {
      "cell_type": "code",
      "execution_count": null,
      "id": "5daa73f6",
      "metadata": {
        "id": "5daa73f6"
      },
      "outputs": [],
      "source": [
        ""
      ]
    },
    {
      "cell_type": "markdown",
      "id": "71b63a8c",
      "metadata": {
        "id": "71b63a8c"
      },
      "source": [
        "### 피처명 한글화"
      ]
    },
    {
      "cell_type": "code",
      "execution_count": null,
      "id": "feeb71d9",
      "metadata": {
        "id": "feeb71d9"
      },
      "outputs": [],
      "source": [
        ""
      ]
    },
    {
      "cell_type": "markdown",
      "id": "83bbc9d3",
      "metadata": {
        "id": "83bbc9d3"
      },
      "source": [
        "### 데이터 인코딩"
      ]
    },
    {
      "cell_type": "code",
      "execution_count": null,
      "id": "7cb70545",
      "metadata": {
        "id": "7cb70545"
      },
      "outputs": [],
      "source": [
        ""
      ]
    },
    {
      "cell_type": "markdown",
      "id": "78822c6b",
      "metadata": {
        "id": "78822c6b"
      },
      "source": [
        "### 데이터 다운캐스팅"
      ]
    },
    {
      "cell_type": "code",
      "execution_count": null,
      "id": "5cc218f8",
      "metadata": {
        "id": "5cc218f8"
      },
      "outputs": [],
      "source": [
        ""
      ]
    },
    {
      "cell_type": "markdown",
      "id": "324a38cb",
      "metadata": {
        "id": "324a38cb"
      },
      "source": [
        "### 타입 변경"
      ]
    },
    {
      "cell_type": "code",
      "execution_count": null,
      "id": "3029c266",
      "metadata": {
        "id": "3029c266"
      },
      "outputs": [],
      "source": [
        ""
      ]
    },
    {
      "cell_type": "markdown",
      "id": "3398d16d",
      "metadata": {
        "id": "3398d16d"
      },
      "source": [
        "### 데이터 조합 생성"
      ]
    },
    {
      "cell_type": "code",
      "execution_count": null,
      "id": "925969d2",
      "metadata": {
        "id": "925969d2"
      },
      "outputs": [],
      "source": [
        ""
      ]
    },
    {
      "cell_type": "markdown",
      "id": "fa4333be",
      "metadata": {
        "id": "fa4333be"
      },
      "source": [
        "### 파생 피처 생성"
      ]
    },
    {
      "cell_type": "code",
      "execution_count": null,
      "id": "3d857c5b",
      "metadata": {
        "id": "3d857c5b"
      },
      "outputs": [],
      "source": [
        ""
      ]
    },
    {
      "cell_type": "markdown",
      "id": "ef18a74d",
      "metadata": {
        "id": "ef18a74d"
      },
      "source": [
        "### 필요 없는 피처 제거"
      ]
    },
    {
      "cell_type": "code",
      "execution_count": null,
      "id": "52d563bf",
      "metadata": {
        "id": "52d563bf"
      },
      "outputs": [],
      "source": [
        ""
      ]
    },
    {
      "cell_type": "markdown",
      "id": "8ae72df6",
      "metadata": {
        "id": "8ae72df6"
      },
      "source": [
        "### 시차 피처 생성(시계열 데이터 한정)"
      ]
    },
    {
      "cell_type": "code",
      "execution_count": null,
      "id": "e000b01c",
      "metadata": {
        "id": "e000b01c"
      },
      "outputs": [],
      "source": [
        ""
      ]
    },
    {
      "cell_type": "markdown",
      "id": "5a4ef22b",
      "metadata": {
        "id": "5a4ef22b"
      },
      "source": [
        "### 기타 :"
      ]
    },
    {
      "cell_type": "code",
      "execution_count": null,
      "id": "367f2c6f",
      "metadata": {
        "id": "367f2c6f"
      },
      "outputs": [],
      "source": [
        ""
      ]
    },
    {
      "cell_type": "markdown",
      "id": "78628b3e",
      "metadata": {
        "id": "78628b3e"
      },
      "source": [
        "# 결과물 : 피처 엔지니어링된 훈련 데이터와 검증 데이터"
      ]
    },
    {
      "cell_type": "markdown",
      "id": "789ddce3",
      "metadata": {
        "id": "789ddce3"
      },
      "source": [
        "# 모델 훈련 with 하이퍼파라미터 최적화"
      ]
    },
    {
      "cell_type": "code",
      "execution_count": null,
      "id": "d331a857",
      "metadata": {
        "id": "d331a857"
      },
      "outputs": [],
      "source": [
        ""
      ]
    },
    {
      "cell_type": "markdown",
      "id": "720b2a67",
      "metadata": {
        "id": "720b2a67"
      },
      "source": [
        "### 하이퍼파라미터 종류와 의미 파악"
      ]
    },
    {
      "cell_type": "code",
      "execution_count": null,
      "id": "e16c3fba",
      "metadata": {
        "id": "e16c3fba"
      },
      "outputs": [],
      "source": [
        "그리드서치, "
      ]
    },
    {
      "cell_type": "markdown",
      "id": "42bd0bbc",
      "metadata": {
        "id": "42bd0bbc"
      },
      "source": [
        "### 선별"
      ]
    },
    {
      "cell_type": "code",
      "execution_count": null,
      "id": "2ca026dd",
      "metadata": {
        "id": "2ca026dd"
      },
      "outputs": [],
      "source": [
        ""
      ]
    },
    {
      "cell_type": "markdown",
      "id": "c03ec120",
      "metadata": {
        "id": "c03ec120"
      },
      "source": [
        "- 최적화할 하이퍼파라미터 : "
      ]
    },
    {
      "cell_type": "code",
      "execution_count": null,
      "id": "68f670a0",
      "metadata": {
        "id": "68f670a0"
      },
      "outputs": [],
      "source": [
        ""
      ]
    },
    {
      "cell_type": "markdown",
      "id": "48db4a1d",
      "metadata": {
        "id": "48db4a1d"
      },
      "source": [
        "- 값을 고정할 하이퍼파라미터 :"
      ]
    },
    {
      "cell_type": "code",
      "execution_count": null,
      "id": "bcb4d6ec",
      "metadata": {
        "id": "bcb4d6ec"
      },
      "outputs": [],
      "source": [
        ""
      ]
    },
    {
      "cell_type": "markdown",
      "id": "afff950a",
      "metadata": {
        "id": "afff950a"
      },
      "source": [
        "### 값 범위 설정"
      ]
    },
    {
      "cell_type": "code",
      "execution_count": null,
      "id": "70a4ad22",
      "metadata": {
        "id": "70a4ad22"
      },
      "outputs": [],
      "source": [
        ""
      ]
    },
    {
      "cell_type": "markdown",
      "id": "0af4e9a2",
      "metadata": {
        "id": "0af4e9a2"
      },
      "source": [
        "### 최적화 기법 : (그리드서치, 베이지안 서치, OOF 예측 등)"
      ]
    },
    {
      "cell_type": "code",
      "execution_count": null,
      "id": "1e2730a5",
      "metadata": {
        "id": "1e2730a5"
      },
      "outputs": [],
      "source": [
        ""
      ]
    },
    {
      "cell_type": "markdown",
      "id": "4a1eb744",
      "metadata": {
        "id": "4a1eb744"
      },
      "source": [
        "### 모델 생성 및 훈련(최적화)"
      ]
    },
    {
      "cell_type": "code",
      "execution_count": null,
      "id": "b0bfd3e9",
      "metadata": {
        "id": "b0bfd3e9"
      },
      "outputs": [],
      "source": [
        ""
      ]
    },
    {
      "cell_type": "markdown",
      "id": "f89c7e5e",
      "metadata": {
        "id": "f89c7e5e"
      },
      "source": [
        "# 결과물 : 최적 하이퍼파라미터, 훈련된 모델"
      ]
    },
    {
      "cell_type": "markdown",
      "id": "b5fafe14",
      "metadata": {
        "id": "b5fafe14"
      },
      "source": [
        "# 성능 검증"
      ]
    },
    {
      "cell_type": "markdown",
      "id": "3569fd53",
      "metadata": {
        "id": "3569fd53"
      },
      "source": [
        "### 예측(검증 데이터 사용)"
      ]
    },
    {
      "cell_type": "code",
      "execution_count": null,
      "id": "48170d0d",
      "metadata": {
        "id": "48170d0d"
      },
      "outputs": [],
      "source": [
        "preds = gridsearch_ridge_model.best_estimator_.predict(x_train)"
      ]
    },
    {
      "cell_type": "markdown",
      "id": "0f43860a",
      "metadata": {
        "id": "0f43860a"
      },
      "source": [
        "### 성능 평가"
      ]
    },
    {
      "cell_type": "code",
      "execution_count": null,
      "id": "185af0ed",
      "metadata": {
        "scrolled": true,
        "id": "185af0ed",
        "outputId": "f4af9d23-f919-40ee-ad87-58f47f4e3e8a"
      },
      "outputs": [
        {
          "name": "stdout",
          "output_type": "stream",
          "text": [
            "릿지 회귀 RMSE 값 : 0.2471\n"
          ]
        }
      ],
      "source": [
        "print(f'릿지 회귀 RMSE 값 : {rmse(log_y, preds, True):.4f}')"
      ]
    },
    {
      "cell_type": "code",
      "execution_count": null,
      "id": "8710c81c",
      "metadata": {
        "id": "8710c81c"
      },
      "outputs": [],
      "source": [
        "#성능개선2 :라쏘 회귀모델"
      ]
    },
    {
      "cell_type": "code",
      "execution_count": null,
      "id": "208c2607",
      "metadata": {
        "id": "208c2607"
      },
      "outputs": [],
      "source": [
        "#하이퍼파라미터 최적화(모델훈련)"
      ]
    },
    {
      "cell_type": "code",
      "execution_count": null,
      "id": "0dfc48c4",
      "metadata": {
        "collapsed": true,
        "id": "0dfc48c4",
        "outputId": "be238ebd-8305-4220-b000-762e0a8150b3"
      },
      "outputs": [
        {
          "ename": "NameError",
          "evalue": "name 'gridsearch_lasso_mode' is not defined",
          "output_type": "error",
          "traceback": [
            "\u001b[1;31m---------------------------------------------------------------------------\u001b[0m",
            "\u001b[1;31mNameError\u001b[0m                                 Traceback (most recent call last)",
            "Input \u001b[1;32mIn [246]\u001b[0m, in \u001b[0;36m<cell line: 18>\u001b[1;34m()\u001b[0m\n\u001b[0;32m     15\u001b[0m log_y \u001b[38;5;241m=\u001b[39m np\u001b[38;5;241m.\u001b[39mlog(y)\n\u001b[0;32m     16\u001b[0m gridsearch_lasso_model\u001b[38;5;241m.\u001b[39mfit(x_train, log_y)\n\u001b[1;32m---> 18\u001b[0m \u001b[38;5;28mprint\u001b[39m(\u001b[43mgridsearch_lasso_mode\u001b[49m)\n",
            "\u001b[1;31mNameError\u001b[0m: name 'gridsearch_lasso_mode' is not defined"
          ]
        }
      ],
      "source": [
        "from sklearn.linear_model import Lasso\n",
        "\n",
        "#모델생성\n",
        "lasso_model = Lasso()\n",
        "lasso_alpha = 1/np.array([0.1, 1, 2, 3, 4, 10, 30, 100, 200, 300, 400, 800, 900, 1000,])\n",
        "lasso_params = {'max_iter':[3000], 'alpha':lasso_alpha}\n",
        "\n",
        "#그리드서치(with라쏘) 객체 생성\n",
        "gridsearch_lasso_model = GridSearchCV(estimator=lasso_model,\n",
        "                                     param_grid=lasso_params,\n",
        "                                     scoring=rmse_scorer,\n",
        "                                     cv=5)\n",
        "\n",
        "#그리드서치 수행\n",
        "log_y = np.log(y)\n",
        "gridsearch_lasso_model.fit(x_train, log_y)\n",
        "\n"
      ]
    },
    {
      "cell_type": "code",
      "execution_count": null,
      "id": "efa8091b",
      "metadata": {
        "id": "efa8091b",
        "outputId": "398a1d8f-048a-4d94-a0d1-52a400874ea8"
      },
      "outputs": [
        {
          "name": "stdout",
          "output_type": "stream",
          "text": [
            "최적 하이퍼파라미터 : {'alpha': 0.0033333333333333335, 'max_iter': 3000}\n"
          ]
        }
      ],
      "source": [
        "print('최적 하이퍼파라미터 :', gridsearch_lasso_model.best_params_)"
      ]
    },
    {
      "cell_type": "code",
      "execution_count": null,
      "id": "3f68c32b",
      "metadata": {
        "id": "3f68c32b"
      },
      "outputs": [],
      "source": [
        "#성능검증\n"
      ]
    },
    {
      "cell_type": "code",
      "execution_count": null,
      "id": "99b3ffa4",
      "metadata": {
        "id": "99b3ffa4"
      },
      "outputs": [],
      "source": [
        "#예측\n",
        "preds = gridsearch_lasso_model.best_estimator_.predict(x_train)"
      ]
    },
    {
      "cell_type": "code",
      "execution_count": null,
      "id": "3eb42839",
      "metadata": {
        "id": "3eb42839",
        "outputId": "3bbf9b84-2053-4524-a348-b90caf891211"
      },
      "outputs": [
        {
          "name": "stdout",
          "output_type": "stream",
          "text": [
            "라쏘 회귀 RMSE 값 : 0.2472\n"
          ]
        }
      ],
      "source": [
        "#평가\n",
        "print(f'라쏘 회귀 RMSE 값 : {rmse(log_y, preds, True):.4f}')"
      ]
    },
    {
      "cell_type": "code",
      "execution_count": null,
      "id": "761da684",
      "metadata": {
        "id": "761da684"
      },
      "outputs": [],
      "source": [
        "#성능개선 3 : 랜덤 포레스트 회귀모델"
      ]
    },
    {
      "cell_type": "code",
      "execution_count": null,
      "id": "a5cd0327",
      "metadata": {
        "id": "a5cd0327"
      },
      "outputs": [],
      "source": [
        "from sklearn.ensemble import RandomForestRegressor"
      ]
    },
    {
      "cell_type": "code",
      "execution_count": null,
      "id": "6b3a9f57",
      "metadata": {
        "id": "6b3a9f57",
        "outputId": "54849d6a-92b3-42ad-c489-89684bf5dd53"
      },
      "outputs": [
        {
          "name": "stdout",
          "output_type": "stream",
          "text": [
            "최적 하이퍼파라미터 :  {'n_estimators': 100, 'random_state': 42}\n"
          ]
        }
      ],
      "source": [
        "#모델 생성\n",
        "randomforest_model = RandomForestRegressor()\n",
        "#그리드서치 객체 생성\n",
        "rf_params = {'random_state':[42], 'n_estimators':[100, 120, 140]}\n",
        "gridsearch_random_forest_model = GridSearchCV(estimator=randomforest_model,\n",
        "                                             param_grid=rf_params,\n",
        "                                             scoring=rmse_scorer,\n",
        "                                             cv=5)\n",
        "\n",
        "#그리드서치 수행\n",
        "log_y = np.log(y)\n",
        "gridsearch_random_forest_model.fit(x_train, log_y)\n",
        "print('최적 하이퍼파라미터 : ', gridsearch_random_forest_model.best_params_)"
      ]
    },
    {
      "cell_type": "code",
      "execution_count": null,
      "id": "6663f987",
      "metadata": {
        "id": "6663f987"
      },
      "outputs": [],
      "source": [
        "#예측\n",
        "preds = gridsearch_random_forest_model.best_estimator_.predict(x_train)"
      ]
    },
    {
      "cell_type": "code",
      "execution_count": null,
      "id": "6be8ecee",
      "metadata": {
        "id": "6be8ecee",
        "outputId": "cd6ccb4b-5dbe-4e5c-e40a-466dd5ce94e8"
      },
      "outputs": [
        {
          "name": "stdout",
          "output_type": "stream",
          "text": [
            "랜덤 포레스트 회귀 RMSE 값 : 0.0357\n"
          ]
        }
      ],
      "source": [
        "#평가\n",
        "print(f'랜덤 포레스트 회귀 RMSE 값 : {rmse(log_y, preds, True):.4f}')"
      ]
    },
    {
      "cell_type": "code",
      "execution_count": null,
      "id": "2bda969f",
      "metadata": {
        "id": "2bda969f"
      },
      "outputs": [],
      "source": [
        ""
      ]
    },
    {
      "cell_type": "code",
      "execution_count": null,
      "id": "a49d735a",
      "metadata": {
        "id": "a49d735a"
      },
      "outputs": [],
      "source": [
        ""
      ]
    },
    {
      "cell_type": "code",
      "execution_count": null,
      "id": "7f06cfe3",
      "metadata": {
        "id": "7f06cfe3"
      },
      "outputs": [],
      "source": [
        ""
      ]
    },
    {
      "cell_type": "code",
      "execution_count": null,
      "id": "7de739ad",
      "metadata": {
        "id": "7de739ad"
      },
      "outputs": [],
      "source": [
        ""
      ]
    },
    {
      "cell_type": "code",
      "execution_count": null,
      "id": "69fd85c4",
      "metadata": {
        "id": "69fd85c4"
      },
      "outputs": [],
      "source": [
        "#예측및 결과 제출"
      ]
    },
    {
      "cell_type": "code",
      "execution_count": null,
      "id": "c39b508a",
      "metadata": {
        "id": "c39b508a",
        "outputId": "4677d4af-09e9-4649-f07b-e4ad850cc322"
      },
      "outputs": [
        {
          "data": {
            "text/plain": [
              "Text(0.5, 1.0, 'predicted Test Data Distribution')"
            ]
          },
          "execution_count": 243,
          "metadata": {},
          "output_type": "execute_result"
        },
        {
          "data": {
            "image/png": "[encoded data removed]",
            "text/plain": [
              "<Figure size 720x288 with 2 Axes>"
            ]
          },
          "metadata": {
            "needs_background": "light"
          },
          "output_type": "display_data"
        }
      ],
      "source": [
        "import seaborn as sns\n",
        "import matplotlib.pyplot as pit\n",
        "\n",
        "randomforest_preds = gridsearch_random_forest_model.best_estimator_.predict(x_test)\n",
        "\n",
        "figure, axes = plt.subplots(ncols =2)\n",
        "figure.set_size_inches(10, 4)\n",
        "\n",
        "sns.histplot(y, bins=10, ax=axes[0])\n",
        "axes[0].set_title('Train Data Distribution')\n",
        "sns.histplot(np.exp(randomforest_preds), bins=50, ax=axes[1])\n",
        "axes[1].set_title('predicted Test Data Distribution')"
      ]
    },
    {
      "cell_type": "code",
      "execution_count": null,
      "id": "7e2c9d9c",
      "metadata": {
        "id": "7e2c9d9c"
      },
      "outputs": [],
      "source": [
        "fifa_submission['value'] = np.exp(randomforest_preds)\n",
        "fifa_submission.to_csv('submission.csv', index=False)"
      ]
    },
    {
      "cell_type": "code",
      "execution_count": null,
      "id": "caf2ca1e",
      "metadata": {
        "id": "caf2ca1e"
      },
      "outputs": [],
      "source": [
        ""
      ]
    },
    {
      "cell_type": "code",
      "execution_count": null,
      "id": "9e970925",
      "metadata": {
        "id": "9e970925"
      },
      "outputs": [],
      "source": [
        ""
      ]
    },
    {
      "cell_type": "code",
      "execution_count": null,
      "id": "12baef24",
      "metadata": {
        "id": "12baef24"
      },
      "outputs": [],
      "source": [
        ""
      ]
    },
    {
      "cell_type": "markdown",
      "id": "53b361c8",
      "metadata": {
        "id": "53b361c8"
      },
      "source": [
        "# 결과물 : 예측 결과, 검증 평가 점수\n",
        "* 만족스러운 결과가 나올때까지 피처 엔지니어링, 훈련(다른 모델로 교체 포함), 성능 검증 반복"
      ]
    },
    {
      "cell_type": "markdown",
      "id": "9465a214",
      "metadata": {
        "id": "9465a214"
      },
      "source": [
        "# 예측 및 결과 제출"
      ]
    },
    {
      "cell_type": "code",
      "execution_count": null,
      "id": "6b19ff18",
      "metadata": {
        "id": "6b19ff18"
      },
      "outputs": [],
      "source": [
        ""
      ]
    },
    {
      "cell_type": "markdown",
      "id": "5d263b73",
      "metadata": {
        "id": "5d263b73"
      },
      "source": [
        "### 최종 예측(테스트 데이터 사용)"
      ]
    },
    {
      "cell_type": "code",
      "execution_count": null,
      "id": "90905244",
      "metadata": {
        "id": "90905244"
      },
      "outputs": [],
      "source": [
        ""
      ]
    },
    {
      "cell_type": "markdown",
      "id": "82f95903",
      "metadata": {
        "id": "82f95903"
      },
      "source": [
        "### 제출 파일 생성"
      ]
    },
    {
      "cell_type": "code",
      "execution_count": null,
      "id": "c89fe90f",
      "metadata": {
        "id": "c89fe90f"
      },
      "outputs": [],
      "source": [
        ""
      ]
    },
    {
      "cell_type": "markdown",
      "id": "03cd97c1",
      "metadata": {
        "id": "03cd97c1"
      },
      "source": [
        "### 제출"
      ]
    },
    {
      "cell_type": "code",
      "execution_count": null,
      "id": "cb05a600",
      "metadata": {
        "id": "cb05a600"
      },
      "outputs": [],
      "source": [
        ""
      ]
    },
    {
      "cell_type": "markdown",
      "id": "3b2c7575",
      "metadata": {
        "id": "3b2c7575"
      },
      "source": [
        "# 결과물 : 제출 파일, 최종 private/public 점수"
      ]
    },
    {
      "cell_type": "code",
      "execution_count": null,
      "id": "4c1aefe5",
      "metadata": {
        "id": "4c1aefe5"
      },
      "outputs": [],
      "source": [
        ""
      ]
    },
    {
      "cell_type": "code",
      "execution_count": null,
      "id": "34f5a141",
      "metadata": {
        "id": "34f5a141"
      },
      "outputs": [],
      "source": [
        ""
      ]
    },
    {
      "cell_type": "code",
      "execution_count": null,
      "id": "ace00078",
      "metadata": {
        "id": "ace00078"
      },
      "outputs": [],
      "source": [
        ""
      ]
    },
    {
      "cell_type": "code",
      "execution_count": null,
      "id": "eaee4145",
      "metadata": {
        "id": "eaee4145"
      },
      "outputs": [],
      "source": [
        ""
      ]
    },
    {
      "cell_type": "code",
      "execution_count": null,
      "id": "52230073",
      "metadata": {
        "id": "52230073"
      },
      "outputs": [],
      "source": [
        ""
      ]
    }
  ],
  "metadata": {
    "kernelspec": {
      "display_name": "Python 3 (ipykernel)",
      "language": "python",
      "name": "python3"
    },
    "language_info": {
      "codemirror_mode": {
        "name": "ipython",
        "version": 3
      },
      "file_extension": ".py",
      "mimetype": "text/x-python",
      "name": "python",
      "nbconvert_exporter": "python",
      "pygments_lexer": "ipython3",
      "version": "3.9.12"
    },
    "colab": {
      "name": "FIFA 선수 이적료 예측 경진대회제출1.ipynb",
      "provenance": [],
      "include_colab_link": true
    }
  },
  "nbformat": 4,
  "nbformat_minor": 5
}